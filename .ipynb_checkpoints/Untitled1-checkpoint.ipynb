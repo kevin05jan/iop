{
 "cells": [
  {
   "cell_type": "code",
   "execution_count": null,
   "metadata": {},
   "outputs": [],
   "source": [
    "devtools::document()\n",
    "devtools::install()"
   ]
  },
  {
   "cell_type": "code",
   "execution_count": null,
   "metadata": {},
   "outputs": [],
   "source": []
  },
  {
   "cell_type": "code",
   "execution_count": null,
   "metadata": {},
   "outputs": [],
   "source": [
    "df = data.frame(x=as.factor(iris$Species[1:100]),y=as.factor(iris$Species[100:1]))"
   ]
  },
  {
   "cell_type": "code",
   "execution_count": null,
   "metadata": {},
   "outputs": [],
   "source": [
    "chisq.test(df)"
   ]
  },
  {
   "cell_type": "code",
   "execution_count": 1,
   "metadata": {},
   "outputs": [
    {
     "data": {
      "text/html": [
       "<ol class=list-inline>\n",
       "\t<li>590540</li>\n",
       "\t<li>394</li>\n",
       "</ol>\n"
      ],
      "text/latex": [
       "\\begin{enumerate*}\n",
       "\\item 590540\n",
       "\\item 394\n",
       "\\end{enumerate*}\n"
      ],
      "text/markdown": [
       "1. 590540\n",
       "2. 394\n",
       "\n",
       "\n"
      ],
      "text/plain": [
       "[1] 590540    394"
      ]
     },
     "metadata": {},
     "output_type": "display_data"
    }
   ],
   "source": [
    "data = readRDS(\"../ieee-fraud-detection/train_transaction.rds\")\n",
    "dict = iop::data2dict(file=\"../ieee-fraud-detection/dict.csv\")\n",
    "##data = predict(dict, data)\n",
    "dim(data)"
   ]
  },
  {
   "cell_type": "code",
   "execution_count": 14,
   "metadata": {},
   "outputs": [
    {
     "data": {
      "text/plain": [
       "         \n",
       "ymx            0      1\n",
       "  1970-01 130938   3401\n",
       "  1970-02  80764   3301\n",
       "  1970-03  90302   3868\n",
       "  1970-04  94178   3849\n",
       "  1970-05  84481   3031\n",
       "  1970-06  83962   2972\n",
       "  1970-07   5252    241"
      ]
     },
     "metadata": {},
     "output_type": "display_data"
    },
    {
     "data": {
      "text/html": [
       "<ol class=list-inline>\n",
       "\t<li>101931</li>\n",
       "\t<li>394</li>\n",
       "</ol>\n"
      ],
      "text/latex": [
       "\\begin{enumerate*}\n",
       "\\item 101931\n",
       "\\item 394\n",
       "\\end{enumerate*}\n"
      ],
      "text/markdown": [
       "1. 101931\n",
       "2. 394\n",
       "\n",
       "\n"
      ],
      "text/plain": [
       "[1] 101931    394"
      ]
     },
     "metadata": {},
     "output_type": "display_data"
    },
    {
     "data": {
      "text/html": [
       "84481"
      ],
      "text/latex": [
       "84481"
      ],
      "text/markdown": [
       "84481"
      ],
      "text/plain": [
       "[1] 84481"
      ]
     },
     "metadata": {},
     "output_type": "display_data"
    },
    {
     "data": {
      "text/html": [
       "17450"
      ],
      "text/latex": [
       "17450"
      ],
      "text/markdown": [
       "17450"
      ],
      "text/plain": [
       "[1] 17450"
      ]
     },
     "metadata": {},
     "output_type": "display_data"
    },
    {
     "data": {
      "text/html": [
       "<ol class=list-inline>\n",
       "\t<li>101931</li>\n",
       "\t<li>95</li>\n",
       "</ol>\n"
      ],
      "text/latex": [
       "\\begin{enumerate*}\n",
       "\\item 101931\n",
       "\\item 95\n",
       "\\end{enumerate*}\n"
      ],
      "text/markdown": [
       "1. 101931\n",
       "2. 95\n",
       "\n",
       "\n"
      ],
      "text/plain": [
       "[1] 101931     95"
      ]
     },
     "metadata": {},
     "output_type": "display_data"
    }
   ],
   "source": [
    "id_y = iop::dict2y(dict, data)\n",
    "time = data[[\"TransactionDT\"]]\n",
    "ymd = as.POSIXct(as.Date(as.POSIXct(time, origin = \"1970-01-01\")))\n",
    "ymx = (format(ymd, format=\"%Y-%m\"))\n",
    "data[[id_y]] = as.factor(as.character(data[[id_y]]))\n",
    "\n",
    "table(ymx, data[[id_y]])\n",
    "ym = unique(ymx)\n",
    "\n",
    "## subsetting\n",
    "## [ i-1 ] [  i  ] [ i+1 ]\n",
    "##         [calib]\n",
    "## [-------train---------]\n",
    "## [----learn----] [eval ]\n",
    "i = 5\n",
    ".ym = ym[i]\n",
    "y = data[[id_y]]\n",
    "i0 = which(ymx == ym[i] & y == 0)\n",
    "i1 = which(ymx <= ym[i] & y == 1)\n",
    "id_calib = c(i0, i1)\n",
    "CALIB = data[id_calib,]\n",
    "dim(CALIB)\n",
    "\n",
    "length(i0)\n",
    "length(i1)\n",
    "\n",
    "## calibrating\n",
    ".na2rm = iop::na2rm(CALIB)\n",
    "CALIB = predict(.na2rm, CALIB)\n",
    ".const2rm = iop::const2rm(CALIB)\n",
    "CALIB = predict(.const2rm, CALIB)\n",
    "id_xnum = iop::dict2xnum(dict, CALIB)\n",
    ".nzv2rm = iop::nzv2rm(CALIB[,id_xnum])\n",
    "CALIB = predict(.nzv2rm, CALIB)\n",
    "id_xnum = iop::dict2xnum(dict, CALIB)\n",
    ".cor2rm = iop::cor2rm(CALIB[,id_xnum])\n",
    "CALIB = predict(.cor2rm, CALIB)\n",
    "id_xnum = iop::dict2xnum(dict, CALIB)\n",
    ".num2norm = iop::num2norm(CALIB[,id_xnum])\n",
    "dim(CALIB)"
   ]
  },
  {
   "cell_type": "code",
   "execution_count": null,
   "metadata": {},
   "outputs": [],
   "source": []
  },
  {
   "cell_type": "code",
   "execution_count": 4,
   "metadata": {},
   "outputs": [
    {
     "data": {
      "text/html": [
       "17450"
      ],
      "text/latex": [
       "17450"
      ],
      "text/markdown": [
       "17450"
      ],
      "text/plain": [
       "[1] 17450"
      ]
     },
     "metadata": {},
     "output_type": "display_data"
    },
    {
     "data": {
      "text/html": [
       "84481"
      ],
      "text/latex": [
       "84481"
      ],
      "text/markdown": [
       "84481"
      ],
      "text/plain": [
       "[1] 84481"
      ]
     },
     "metadata": {},
     "output_type": "display_data"
    },
    {
     "data": {
      "text/html": [
       "0.206555320131154"
      ],
      "text/latex": [
       "0.206555320131154"
      ],
      "text/markdown": [
       "0.206555320131154"
      ],
      "text/plain": [
       "[1] 0.2065553"
      ]
     },
     "metadata": {},
     "output_type": "display_data"
    }
   ],
   "source": [
    "length(i1)\n",
    "length(i0)\n",
    "length(i1)/length(i0)"
   ]
  },
  {
   "cell_type": "code",
   "execution_count": null,
   "metadata": {},
   "outputs": [],
   "source": []
  },
  {
   "cell_type": "code",
   "execution_count": null,
   "metadata": {},
   "outputs": [],
   "source": [
    "\n",
    "n0 = 10000\n",
    "id_tls = c(sample(i0, n0), i1)\n",
    "TLS = data[id_tls,]\n",
    "id_xnum = iop::dict2xnum(dict, CALIB)\n",
    "id_comp = complete.cases(TLS[,id_xnum])\n",
    "\n",
    "dat = predict(.num2norm, TLS[id_comp,id_xnum])\n",
    "tar = as.character(TLS[id_comp, id_y])\n",
    "svm = LiblineaR::LiblineaR(data=dat, target = tar)\n",
    "\n",
    "tmp = data[c(i0, i1),]\n",
    "tmp = predict(.num2norm, tmp)\n",
    "tmp = tmp[complete.cases(tmp[,id_xnum]),]\n",
    "dim(tmp)\n",
    "\n",
    "p = predict(svm, newx=(tmp[,id_xnum]))$predictions\n",
    "\n",
    "\n",
    "p = as.integer(as.character(p))\n",
    "a = as.integer(as.character(tmp[[id_y]]))\n",
    "table(p,a)\n",
    "\n",
    "\n",
    "\n",
    "id_tls2 = which(p != a & a == 0)\n",
    "TLS2 = rbind(TLS, tmp[id_tls2,])\n",
    "dim(TLS2)\n",
    "dt = rpart::rpart(f, data=TLS2)\n",
    "p = predict(dt, newdata=tmp, type=\"class\")\n",
    "p = as.integer(as.character(p))\n",
    "a = as.integer(as.character(tmp[[id_y]]))\n",
    "table(p,a)"
   ]
  },
  {
   "cell_type": "code",
   "execution_count": 5,
   "metadata": {},
   "outputs": [],
   "source": [
    "id_xnum = iop::dict2xnum(dict, CALIB)\n",
    ".num2norm = iop::num2norm(CALIB[,id_xnum])"
   ]
  },
  {
   "cell_type": "code",
   "execution_count": null,
   "metadata": {},
   "outputs": [],
   "source": [
    "r1 = 1000\n",
    "TLS1 = data[i1,sample(id_xnum, r1)]\n",
    "TLS1 = predict(.num2norm, TLS1)\n",
    "dim(TLS1)\n",
    "TLS0 = tmp[id_tls2,id_xnum]\n",
    "TLS0 = predict(.num2norm, TLS0)\n",
    "dim(TLS0)\n",
    "dxz = min(dist(TLS1))\n",
    "sapply(1:5, function(i){\n",
    "    dxy = min(dist(rbind(TLS0[i,], TLS1))[1,])\n",
    "    dxy < dxz\n",
    "})"
   ]
  },
  {
   "cell_type": "code",
   "execution_count": 12,
   "metadata": {},
   "outputs": [
    {
     "data": {
      "text/html": [
       "<ol class=list-inline>\n",
       "\t<li>101931</li>\n",
       "\t<li>95</li>\n",
       "</ol>\n"
      ],
      "text/latex": [
       "\\begin{enumerate*}\n",
       "\\item 101931\n",
       "\\item 95\n",
       "\\end{enumerate*}\n"
      ],
      "text/markdown": [
       "1. 101931\n",
       "2. 95\n",
       "\n",
       "\n"
      ],
      "text/plain": [
       "[1] 101931     95"
      ]
     },
     "metadata": {},
     "output_type": "display_data"
    }
   ],
   "source": [
    "dim(CALIB)"
   ]
  },
  {
   "cell_type": "code",
   "execution_count": 41,
   "metadata": {},
   "outputs": [
    {
     "ename": "ERROR",
     "evalue": "Error in LiblineaR::LiblineaR(data = dat, target = tar): NA/NaN/Inf in foreign function call (arg 3)\n",
     "output_type": "error",
     "traceback": [
      "Error in LiblineaR::LiblineaR(data = dat, target = tar): NA/NaN/Inf in foreign function call (arg 3)\nTraceback:\n",
      "1. LiblineaR::LiblineaR(data = dat, target = tar)"
     ]
    }
   ],
   "source": [
    "\n",
    "BOOST1 = data[head(i1),]\n",
    "BOOST1 = predict(.num2norm, BOOST1)\n",
    "sel1 = complete.cases(BOOST1[,id_xnum])\n",
    "i1 = i1[sel1]\n",
    "BOOST1 = BOOST1[sel1,]\n",
    "BOOST0 = data[i0,]\n",
    "BOOST0 = predict(.num2norm, BOOST0)\n",
    "sel0 = complete.cases(BOOST0[,id_xnum])\n",
    "i0 = i0[sel0]\n",
    "BOOST0 = BOOST0[sel0,]\n",
    "\n",
    "d0 = rep(1/length(i0), length(i0))\n",
    "n0 = length(i1)\n",
    "r0 = sample(i0, n0, prob=d0)\n",
    "BOOST = rbind(BOOST0[r0,], BOOST1)\n",
    "id_y = iop::dict2y(dict, CALIB)\n",
    "tar = as.character(BOOST[[id_y]])\n",
    "dat = BOOST[,id_xnum]\n",
    "svm = LiblineaR::LiblineaR(data=dat, target=tar)\n",
    "p0 = predict(svm, newx=BOOST0)$predictions\n",
    "p1 = predict(svm, newx=BOOST1)$predictions\n",
    "\n",
    "e = sum(p0 != BOOST0[[id_y]]) * d0\n"
   ]
  },
  {
   "cell_type": "code",
   "execution_count": 29,
   "metadata": {},
   "outputs": [
    {
     "data": {
      "text/html": [
       "<ol class=list-inline>\n",
       "\t<li>34804</li>\n",
       "\t<li>394</li>\n",
       "</ol>\n"
      ],
      "text/latex": [
       "\\begin{enumerate*}\n",
       "\\item 34804\n",
       "\\item 394\n",
       "\\end{enumerate*}\n"
      ],
      "text/markdown": [
       "1. 34804\n",
       "2. 394\n",
       "\n",
       "\n"
      ],
      "text/plain": [
       "[1] 34804   394"
      ]
     },
     "metadata": {},
     "output_type": "display_data"
    },
    {
     "data": {
      "text/html": [
       "'factor'"
      ],
      "text/latex": [
       "'factor'"
      ],
      "text/markdown": [
       "'factor'"
      ],
      "text/plain": [
       "[1] \"factor\""
      ]
     },
     "metadata": {},
     "output_type": "display_data"
    }
   ],
   "source": [
    "r0 = sample(i0, n0, prob=d0)\n",
    "BOOST = rbind(BOOST0[r0,], BOOST1)\n",
    "dim(BOOST)\n",
    "as(BOOST[[id_y]])"
   ]
  },
  {
   "cell_type": "code",
   "execution_count": 59,
   "metadata": {},
   "outputs": [
    {
     "data": {
      "text/html": [
       "<ol class=list-inline>\n",
       "\t<li>101931</li>\n",
       "\t<li>95</li>\n",
       "</ol>\n"
      ],
      "text/latex": [
       "\\begin{enumerate*}\n",
       "\\item 101931\n",
       "\\item 95\n",
       "\\end{enumerate*}\n"
      ],
      "text/markdown": [
       "1. 101931\n",
       "2. 95\n",
       "\n",
       "\n"
      ],
      "text/plain": [
       "[1] 101931     95"
      ]
     },
     "metadata": {},
     "output_type": "display_data"
    },
    {
     "ename": "ERROR",
     "evalue": "Error in eval(predvars, data, env): object 'ProductCD' not found\n",
     "output_type": "error",
     "traceback": [
      "Error in eval(predvars, data, env): object 'ProductCD' not found\nTraceback:\n",
      "1. predict(dt, newdata = data[ii, id_xnum], type = \"node\")",
      "2. predict.party(dt, newdata = data[ii, id_xnum], type = \"node\")",
      "3. model.frame(delete.response(object$terms), newdata, xlev = xlev)",
      "4. model.frame.default(delete.response(object$terms), newdata, xlev = xlev)",
      "5. eval(predvars, data, env)",
      "6. eval(predvars, data, env)"
     ]
    }
   ],
   "source": [
    "dim(CALIB)\n",
    "\n",
    "id_dts = c(i0[1:100], i1[1:100])\n",
    "id_xnum = iop::dict2xnum(dict, CALIB)[1:10]\n",
    "DTS = data[id_dts,]\n",
    "f = iop::data2formula(dict, CALIB)\n",
    "loss = matrix(c(0, 1, 5, 0), ncol=2, byrow=T)\n",
    "library(partykit)\n",
    "dt = (as.party(rpart::rpart(f, data=DTS, parms=list(loss=loss, split=\"information\"))))\n",
    "\n",
    "ii = c(i0[200:300], i1[200:300])\n",
    "predict(dt, newdata=data[ii,id_xnum], type=\"node\")"
   ]
  },
  {
   "cell_type": "code",
   "execution_count": 61,
   "metadata": {},
   "outputs": [
    {
     "name": "stderr",
     "output_type": "stream",
     "text": [
      "Warning message in system2(cmd0, args, env = env, stdout = outfile, stderr = outfile, :\n",
      "“system call failed: Cannot allocate memory”Warning message in system2(cmd0, args, env = env, stdout = outfile, stderr = outfile, :\n",
      "“error in running command”Warning message in install.packages(\"fastNaiveBayes\"):\n",
      "“installation of package ‘fastNaiveBayes’ had non-zero exit status”Updating HTML index of packages in '.Library'\n",
      "Making 'packages.html' ... done\n"
     ]
    }
   ],
   "source": [
    "fastNaiveBayes::fastNaiveBayes(x=)"
   ]
  }
 ],
 "metadata": {
  "kernelspec": {
   "display_name": "R",
   "language": "R",
   "name": "ir"
  },
  "language_info": {
   "codemirror_mode": "r",
   "file_extension": ".r",
   "mimetype": "text/x-r-source",
   "name": "R",
   "pygments_lexer": "r",
   "version": "3.5.1"
  }
 },
 "nbformat": 4,
 "nbformat_minor": 2
}
