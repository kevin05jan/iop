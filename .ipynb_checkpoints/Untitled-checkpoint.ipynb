{
 "cells": [
  {
   "cell_type": "code",
   "execution_count": 107,
   "metadata": {},
   "outputs": [
    {
     "name": "stderr",
     "output_type": "stream",
     "text": [
      "Updating iop documentation\n",
      "\n"
     ]
    },
    {
     "name": "stdout",
     "output_type": "stream",
     "text": [
      "Writing NAMESPACE\n"
     ]
    },
    {
     "name": "stderr",
     "output_type": "stream",
     "text": [
      "Loading iop\n",
      "\n"
     ]
    },
    {
     "name": "stdout",
     "output_type": "stream",
     "text": [
      "Writing NAMESPACE\n",
      "\u001b[32m✔\u001b[39m  \u001b[38;5;247mchecking for file ‘/home/kevin/iop/DESCRIPTION’\u001b[39m\u001b[36m\u001b[36m (540ms)\u001b[36m\u001b[39m\n",
      "\u001b[38;5;247m─\u001b[39m\u001b[38;5;247m  \u001b[39m\u001b[38;5;247mpreparing ‘iop’:\u001b[39m\u001b[36m\u001b[36m (474ms)\u001b[36m\u001b[39m\n",
      "\u001b[32m✔\u001b[39m  \u001b[38;5;247mchecking DESCRIPTION meta-information\u001b[39m\u001b[36m\u001b[39m\n",
      "\u001b[38;5;247m─\u001b[39m\u001b[38;5;247m  \u001b[39m\u001b[38;5;247mchecking for LF line-endings in source and make files and shell scripts\u001b[39m\u001b[36m\u001b[39m\n",
      "\u001b[38;5;247m─\u001b[39m\u001b[38;5;247m  \u001b[39m\u001b[38;5;247mchecking for empty or unneeded directories\u001b[39m\u001b[36m\u001b[39m\n",
      "\u001b[38;5;247m─\u001b[39m\u001b[38;5;247m  \u001b[39m\u001b[38;5;247mbuilding ‘iop_0.0.0.9000.tar.gz’\u001b[39m\u001b[36m\u001b[39m\n",
      "   \n",
      "Running /usr/lib/R/bin/R CMD INSTALL /tmp/RtmpQmOscc/iop_0.0.0.9000.tar.gz \\\n",
      "  --install-tests \n",
      "\u001b[31m* installing to library ‘/home/kevin/R/x86_64-pc-linux-gnu-library/3.6’\n",
      "\u001b[39m\u001b[31m* installing *source* package ‘iop’ ...\n",
      "\u001b[39m\u001b[31m** using staged installation\n",
      "\u001b[39m\u001b[31m** R\n",
      "\u001b[39m\u001b[31m** byte-compile and prepare package for lazy loading\n",
      "\u001b[39m\u001b[31m** help\n",
      "\u001b[39m\u001b[31m*** installing help indices\n",
      "\u001b[39m\u001b[31m** building package indices\n",
      "\u001b[39m\u001b[31m** testing if installed package can be loaded from temporary location\n",
      "\u001b[39m\u001b[31m** testing if installed package can be loaded from final location\n",
      "\u001b[39m\u001b[31m** testing if installed package keeps a record of temporary installation path\n",
      "\u001b[39m\u001b[31m* DONE (iop)\n",
      "\u001b[39m"
     ]
    }
   ],
   "source": [
    "devtools::document()\n",
    "devtools::install()"
   ]
  },
  {
   "cell_type": "code",
   "execution_count": 4,
   "metadata": {},
   "outputs": [],
   "source": []
  },
  {
   "cell_type": "code",
   "execution_count": null,
   "metadata": {},
   "outputs": [],
   "source": []
  },
  {
   "cell_type": "code",
   "execution_count": 115,
   "metadata": {},
   "outputs": [
    {
     "name": "stderr",
     "output_type": "stream",
     "text": [
      "Warning message in `[<-.data.frame`(`*tmp*`, , Xcat, value = list(c(\"68.5\", \"29\", :\n",
      "“provided 385 variables to replace 6 variables”\n"
     ]
    }
   ],
   "source": [
    "data = readRDS(\"train_transaction.rds\")\n",
    "dict = data2dict(file=\"dict.csv\")\n",
    "data = predict(dict, data)"
   ]
  },
  {
   "cell_type": "code",
   "execution_count": 116,
   "metadata": {},
   "outputs": [],
   "source": [
    "id_y = dict2y(dict, data)\n",
    "time = data[[\"TransactionDT\"]]\n",
    "time = as.POSIXct(time, origin = \"1970-01-01\")\n",
    ".data2sets = data2sets(y=data[[id_y]], t=time, sample=\"down\", scale=10)\n"
   ]
  },
  {
   "cell_type": "code",
   "execution_count": 117,
   "metadata": {},
   "outputs": [],
   "source": [
    "id_calib = .data2sets$id_learn[,1]\n",
    "id_xnum = dict2xnum(dict, data)\n",
    ".na2rm = na2rm(data[id_calib,])\n",
    ".const2rm = const2rm(data[id_calib,])\n",
    ".nzv2rm = nzv2rm(data[id_calib, id_xnum])"
   ]
  },
  {
   "cell_type": "code",
   "execution_count": 124,
   "metadata": {},
   "outputs": [
    {
     "data": {
      "text/html": [
       "<ol class=list-inline>\n",
       "\t<li>297543</li>\n",
       "\t<li>97</li>\n",
       "</ol>\n"
      ],
      "text/latex": [
       "\\begin{enumerate*}\n",
       "\\item 297543\n",
       "\\item 97\n",
       "\\end{enumerate*}\n"
      ],
      "text/markdown": [
       "1. 297543\n",
       "2. 97\n",
       "\n",
       "\n"
      ],
      "text/plain": [
       "[1] 297543     97"
      ]
     },
     "metadata": {},
     "output_type": "display_data"
    }
   ],
   "source": [
    "id_train = .data2sets$id_train\n",
    "train = data[id_train,]\n",
    "train = predict(.na2rm, train)\n",
    "train = predict(.const2rm, train)\n",
    "train = predict(.nzv2rm, train)\n",
    "dim(train)"
   ]
  },
  {
   "cell_type": "code",
   "execution_count": 139,
   "metadata": {},
   "outputs": [
    {
     "data": {
      "text/html": [
       "<ol class=list-inline>\n",
       "\t<li>'TransactionAmt'</li>\n",
       "\t<li>'card1'</li>\n",
       "\t<li>'card2'</li>\n",
       "\t<li>'card3'</li>\n",
       "\t<li>'card5'</li>\n",
       "\t<li>'dist1'</li>\n",
       "\t<li>'dist2'</li>\n",
       "\t<li>'P_emaildomain'</li>\n",
       "\t<li>'R_emaildomain'</li>\n",
       "\t<li>'C1'</li>\n",
       "\t<li>'C2'</li>\n",
       "\t<li>'C3'</li>\n",
       "\t<li>'C4'</li>\n",
       "\t<li>'C5'</li>\n",
       "\t<li>'C6'</li>\n",
       "\t<li>'C7'</li>\n",
       "\t<li>'C8'</li>\n",
       "\t<li>'C9'</li>\n",
       "\t<li>'C10'</li>\n",
       "\t<li>'C11'</li>\n",
       "\t<li>'C12'</li>\n",
       "\t<li>'C13'</li>\n",
       "\t<li>'C14'</li>\n",
       "\t<li>'D1'</li>\n",
       "\t<li>'D2'</li>\n",
       "\t<li>'D3'</li>\n",
       "\t<li>'D4'</li>\n",
       "\t<li>'D5'</li>\n",
       "\t<li>'D6'</li>\n",
       "\t<li>'D7'</li>\n",
       "\t<li>'D8'</li>\n",
       "\t<li>'D9'</li>\n",
       "\t<li>'D10'</li>\n",
       "\t<li>'D11'</li>\n",
       "\t<li>'D12'</li>\n",
       "\t<li>'D13'</li>\n",
       "\t<li>'D14'</li>\n",
       "\t<li>'D15'</li>\n",
       "\t<li>'M1'</li>\n",
       "\t<li>'M2'</li>\n",
       "\t<li>'M3'</li>\n",
       "\t<li>'M4'</li>\n",
       "\t<li>'M5'</li>\n",
       "\t<li>'M6'</li>\n",
       "\t<li>'M7'</li>\n",
       "\t<li>'M8'</li>\n",
       "\t<li>'M9'</li>\n",
       "\t<li>'V1'</li>\n",
       "\t<li>'V2'</li>\n",
       "\t<li>'V3'</li>\n",
       "\t<li>'V4'</li>\n",
       "\t<li>'V5'</li>\n",
       "\t<li>'V6'</li>\n",
       "\t<li>'V7'</li>\n",
       "\t<li>'V8'</li>\n",
       "\t<li>'V9'</li>\n",
       "\t<li>'V10'</li>\n",
       "\t<li>'V11'</li>\n",
       "\t<li>'V12'</li>\n",
       "\t<li>'V13'</li>\n",
       "\t<li>'V14'</li>\n",
       "\t<li>'V15'</li>\n",
       "\t<li>'V16'</li>\n",
       "\t<li>'V17'</li>\n",
       "\t<li>'V18'</li>\n",
       "\t<li>'V19'</li>\n",
       "\t<li>'V20'</li>\n",
       "\t<li>'V21'</li>\n",
       "\t<li>'V22'</li>\n",
       "\t<li>'V23'</li>\n",
       "\t<li>'V24'</li>\n",
       "\t<li>'V25'</li>\n",
       "\t<li>'V26'</li>\n",
       "\t<li>'V27'</li>\n",
       "\t<li>'V28'</li>\n",
       "\t<li>'V29'</li>\n",
       "\t<li>'V30'</li>\n",
       "\t<li>'V31'</li>\n",
       "\t<li>'V32'</li>\n",
       "\t<li>'V33'</li>\n",
       "\t<li>'V34'</li>\n",
       "\t<li>'V35'</li>\n",
       "\t<li>'V36'</li>\n",
       "\t<li>'V37'</li>\n",
       "\t<li>'V38'</li>\n",
       "\t<li>'V39'</li>\n",
       "\t<li>'V40'</li>\n",
       "\t<li>'V41'</li>\n",
       "\t<li>'V42'</li>\n",
       "</ol>\n"
      ],
      "text/latex": [
       "\\begin{enumerate*}\n",
       "\\item 'TransactionAmt'\n",
       "\\item 'card1'\n",
       "\\item 'card2'\n",
       "\\item 'card3'\n",
       "\\item 'card5'\n",
       "\\item 'dist1'\n",
       "\\item 'dist2'\n",
       "\\item 'P\\_emaildomain'\n",
       "\\item 'R\\_emaildomain'\n",
       "\\item 'C1'\n",
       "\\item 'C2'\n",
       "\\item 'C3'\n",
       "\\item 'C4'\n",
       "\\item 'C5'\n",
       "\\item 'C6'\n",
       "\\item 'C7'\n",
       "\\item 'C8'\n",
       "\\item 'C9'\n",
       "\\item 'C10'\n",
       "\\item 'C11'\n",
       "\\item 'C12'\n",
       "\\item 'C13'\n",
       "\\item 'C14'\n",
       "\\item 'D1'\n",
       "\\item 'D2'\n",
       "\\item 'D3'\n",
       "\\item 'D4'\n",
       "\\item 'D5'\n",
       "\\item 'D6'\n",
       "\\item 'D7'\n",
       "\\item 'D8'\n",
       "\\item 'D9'\n",
       "\\item 'D10'\n",
       "\\item 'D11'\n",
       "\\item 'D12'\n",
       "\\item 'D13'\n",
       "\\item 'D14'\n",
       "\\item 'D15'\n",
       "\\item 'M1'\n",
       "\\item 'M2'\n",
       "\\item 'M3'\n",
       "\\item 'M4'\n",
       "\\item 'M5'\n",
       "\\item 'M6'\n",
       "\\item 'M7'\n",
       "\\item 'M8'\n",
       "\\item 'M9'\n",
       "\\item 'V1'\n",
       "\\item 'V2'\n",
       "\\item 'V3'\n",
       "\\item 'V4'\n",
       "\\item 'V5'\n",
       "\\item 'V6'\n",
       "\\item 'V7'\n",
       "\\item 'V8'\n",
       "\\item 'V9'\n",
       "\\item 'V10'\n",
       "\\item 'V11'\n",
       "\\item 'V12'\n",
       "\\item 'V13'\n",
       "\\item 'V14'\n",
       "\\item 'V15'\n",
       "\\item 'V16'\n",
       "\\item 'V17'\n",
       "\\item 'V18'\n",
       "\\item 'V19'\n",
       "\\item 'V20'\n",
       "\\item 'V21'\n",
       "\\item 'V22'\n",
       "\\item 'V23'\n",
       "\\item 'V24'\n",
       "\\item 'V25'\n",
       "\\item 'V26'\n",
       "\\item 'V27'\n",
       "\\item 'V28'\n",
       "\\item 'V29'\n",
       "\\item 'V30'\n",
       "\\item 'V31'\n",
       "\\item 'V32'\n",
       "\\item 'V33'\n",
       "\\item 'V34'\n",
       "\\item 'V35'\n",
       "\\item 'V36'\n",
       "\\item 'V37'\n",
       "\\item 'V38'\n",
       "\\item 'V39'\n",
       "\\item 'V40'\n",
       "\\item 'V41'\n",
       "\\item 'V42'\n",
       "\\end{enumerate*}\n"
      ],
      "text/markdown": [
       "1. 'TransactionAmt'\n",
       "2. 'card1'\n",
       "3. 'card2'\n",
       "4. 'card3'\n",
       "5. 'card5'\n",
       "6. 'dist1'\n",
       "7. 'dist2'\n",
       "8. 'P_emaildomain'\n",
       "9. 'R_emaildomain'\n",
       "10. 'C1'\n",
       "11. 'C2'\n",
       "12. 'C3'\n",
       "13. 'C4'\n",
       "14. 'C5'\n",
       "15. 'C6'\n",
       "16. 'C7'\n",
       "17. 'C8'\n",
       "18. 'C9'\n",
       "19. 'C10'\n",
       "20. 'C11'\n",
       "21. 'C12'\n",
       "22. 'C13'\n",
       "23. 'C14'\n",
       "24. 'D1'\n",
       "25. 'D2'\n",
       "26. 'D3'\n",
       "27. 'D4'\n",
       "28. 'D5'\n",
       "29. 'D6'\n",
       "30. 'D7'\n",
       "31. 'D8'\n",
       "32. 'D9'\n",
       "33. 'D10'\n",
       "34. 'D11'\n",
       "35. 'D12'\n",
       "36. 'D13'\n",
       "37. 'D14'\n",
       "38. 'D15'\n",
       "39. 'M1'\n",
       "40. 'M2'\n",
       "41. 'M3'\n",
       "42. 'M4'\n",
       "43. 'M5'\n",
       "44. 'M6'\n",
       "45. 'M7'\n",
       "46. 'M8'\n",
       "47. 'M9'\n",
       "48. 'V1'\n",
       "49. 'V2'\n",
       "50. 'V3'\n",
       "51. 'V4'\n",
       "52. 'V5'\n",
       "53. 'V6'\n",
       "54. 'V7'\n",
       "55. 'V8'\n",
       "56. 'V9'\n",
       "57. 'V10'\n",
       "58. 'V11'\n",
       "59. 'V12'\n",
       "60. 'V13'\n",
       "61. 'V14'\n",
       "62. 'V15'\n",
       "63. 'V16'\n",
       "64. 'V17'\n",
       "65. 'V18'\n",
       "66. 'V19'\n",
       "67. 'V20'\n",
       "68. 'V21'\n",
       "69. 'V22'\n",
       "70. 'V23'\n",
       "71. 'V24'\n",
       "72. 'V25'\n",
       "73. 'V26'\n",
       "74. 'V27'\n",
       "75. 'V28'\n",
       "76. 'V29'\n",
       "77. 'V30'\n",
       "78. 'V31'\n",
       "79. 'V32'\n",
       "80. 'V33'\n",
       "81. 'V34'\n",
       "82. 'V35'\n",
       "83. 'V36'\n",
       "84. 'V37'\n",
       "85. 'V38'\n",
       "86. 'V39'\n",
       "87. 'V40'\n",
       "88. 'V41'\n",
       "89. 'V42'\n",
       "\n",
       "\n"
      ],
      "text/plain": [
       " [1] \"TransactionAmt\" \"card1\"          \"card2\"          \"card3\"         \n",
       " [5] \"card5\"          \"dist1\"          \"dist2\"          \"P_emaildomain\" \n",
       " [9] \"R_emaildomain\"  \"C1\"             \"C2\"             \"C3\"            \n",
       "[13] \"C4\"             \"C5\"             \"C6\"             \"C7\"            \n",
       "[17] \"C8\"             \"C9\"             \"C10\"            \"C11\"           \n",
       "[21] \"C12\"            \"C13\"            \"C14\"            \"D1\"            \n",
       "[25] \"D2\"             \"D3\"             \"D4\"             \"D5\"            \n",
       "[29] \"D6\"             \"D7\"             \"D8\"             \"D9\"            \n",
       "[33] \"D10\"            \"D11\"            \"D12\"            \"D13\"           \n",
       "[37] \"D14\"            \"D15\"            \"M1\"             \"M2\"            \n",
       "[41] \"M3\"             \"M4\"             \"M5\"             \"M6\"            \n",
       "[45] \"M7\"             \"M8\"             \"M9\"             \"V1\"            \n",
       "[49] \"V2\"             \"V3\"             \"V4\"             \"V5\"            \n",
       "[53] \"V6\"             \"V7\"             \"V8\"             \"V9\"            \n",
       "[57] \"V10\"            \"V11\"            \"V12\"            \"V13\"           \n",
       "[61] \"V14\"            \"V15\"            \"V16\"            \"V17\"           \n",
       "[65] \"V18\"            \"V19\"            \"V20\"            \"V21\"           \n",
       "[69] \"V22\"            \"V23\"            \"V24\"            \"V25\"           \n",
       "[73] \"V26\"            \"V27\"            \"V28\"            \"V29\"           \n",
       "[77] \"V30\"            \"V31\"            \"V32\"            \"V33\"           \n",
       "[81] \"V34\"            \"V35\"            \"V36\"            \"V37\"           \n",
       "[85] \"V38\"            \"V39\"            \"V40\"            \"V41\"           \n",
       "[89] \"V42\"           \n",
       "attr(,\"na.action\")\n",
       "  [1]   6   7   8   9  12  25  26  27  28  29  30  31  32  33  34  35  36  37\n",
       " [19]  38  39  40  41  42  43  44  45  46  47  48  49  50  51  52  53  54  55\n",
       " [37]  56  57  58  59  60  61  62  63  64  65  66  67  68  69  70  71  72  73\n",
       " [55]  74  75  76  77  78  79  80  81  82  83  84  85  86  87  88  89  90  91\n",
       " [73]  92  93  94  95  96  97  98  99 100 101 102 103 104 105 106 107 108 109\n",
       " [91] 110 111 112 113 114 115 116 117 118 119 120 121 122 123 124 125 126 127\n",
       "[109] 128 129 130 131 132 133 134 135 136 137 138 139 140 153 154 155 156 157\n",
       "[127] 158 159 160 161 162 163 164 165 166 167 168 184 185 186 187 188 189 190\n",
       "[145] 191 192 193 194 195 196 197 198 199 200 201 202 203 204 205 206 207 208\n",
       "[163] 209 210 211 212 213 214 215 216 217 218 219 220 221 222 223 224 225 226\n",
       "[181] 227 228 229 230 231 232 233 234 235 236 237 238 239 240 241 242 243 244\n",
       "[199] 245 246 247 248 249 250 251 252 253 254 255 256 257 258 259 260 261 262\n",
       "[217] 263 264 265 266 267 268 269 270 271 272 273 274 275 276 277 278 279 280\n",
       "[235] 281 282 283 284 285 286 287 288 289 290 291 292 293 294 295 296 297 298\n",
       "[253] 299 300 301 302 303 304 305 306 307 308 309 310 311 312 313 314 315 316\n",
       "[271] 317 318 319 320 321 322 323 324 368 369 370 371 372 373 374 375 376 377\n",
       "[289] 378 379 380 381 382 383 384 385\n",
       "attr(,\"class\")\n",
       "[1] \"omit\""
      ]
     },
     "metadata": {},
     "output_type": "display_data"
    }
   ],
   "source": [
    "id_xnum = dict2xnum(dict, train)\n",
    "(id_xnum)"
   ]
  },
  {
   "cell_type": "code",
   "execution_count": 143,
   "metadata": {},
   "outputs": [
    {
     "data": {
      "text/html": [
       "'data.frame'"
      ],
      "text/latex": [
       "'data.frame'"
      ],
      "text/markdown": [
       "'data.frame'"
      ],
      "text/plain": [
       "[1] \"data.frame\""
      ]
     },
     "metadata": {},
     "output_type": "display_data"
    }
   ],
   "source": [
    "class(train)"
   ]
  },
  {
   "cell_type": "code",
   "execution_count": null,
   "metadata": {},
   "outputs": [],
   "source": []
  },
  {
   "cell_type": "code",
   "execution_count": null,
   "metadata": {},
   "outputs": [],
   "source": []
  },
  {
   "cell_type": "code",
   "execution_count": null,
   "metadata": {},
   "outputs": [],
   "source": []
  },
  {
   "cell_type": "code",
   "execution_count": null,
   "metadata": {},
   "outputs": [],
   "source": []
  },
  {
   "cell_type": "code",
   "execution_count": null,
   "metadata": {},
   "outputs": [],
   "source": []
  },
  {
   "cell_type": "code",
   "execution_count": 52,
   "metadata": {},
   "outputs": [],
   "source": [
    "th1 = 1.5\n",
    "th2 = 2.5\n",
    "xk = t(iris[100, 1:4])\n",
    "zs = sapply(1:length(M), function(i){\n",
    "    m = M[[i]]\n",
    "    s = S[[i]]\n",
    "    k = K[[i]]\n",
    "    sd = ifelse(k==1,1,sqrt(s/(k-1)))\n",
    "    z = mean((xk-m)/sd)\n",
    "    abs(z)\n",
    "})\n",
    "\n",
    "## find the lowest z score\n",
    "## if the score is below theta1\n",
    "## then update that centroid\n",
    "## else if score is > theta2\n",
    "## then add new centroid\n",
    "## else????\n",
    "if(zs[i] < th1){\n",
    "    m = M[[i]]\n",
    "    mo = m\n",
    "    s = S[[i]]\n",
    "    k = K[[i]]\n",
    "    m = m + (xk - m)/k\n",
    "    s = s + (xk - m)*(xk - mo)\n",
    "    M[[i]] <- m\n",
    "    S[[i]] <- s\n",
    "    K[[i]] <- k+1\n",
    "}"
   ]
  },
  {
   "cell_type": "code",
   "execution_count": 53,
   "metadata": {},
   "outputs": [
    {
     "data": {
      "text/html": [
       "<ol>\n",
       "\t<li>0</li>\n",
       "\t<li><table>\n",
       "<thead><tr><th></th><th scope=col>100</th></tr></thead>\n",
       "<tbody>\n",
       "\t<tr><th scope=row>Sepal.Length</th><td>0</td></tr>\n",
       "\t<tr><th scope=row>Sepal.Width</th><td>0</td></tr>\n",
       "\t<tr><th scope=row>Petal.Length</th><td>0</td></tr>\n",
       "\t<tr><th scope=row>Petal.Width</th><td>0</td></tr>\n",
       "</tbody>\n",
       "</table>\n",
       "</li>\n",
       "</ol>\n"
      ],
      "text/latex": [
       "\\begin{enumerate}\n",
       "\\item 0\n",
       "\\item \\begin{tabular}{r|l}\n",
       "  & 100\\\\\n",
       "\\hline\n",
       "\tSepal.Length & 0\\\\\n",
       "\tSepal.Width & 0\\\\\n",
       "\tPetal.Length & 0\\\\\n",
       "\tPetal.Width & 0\\\\\n",
       "\\end{tabular}\n",
       "\n",
       "\\end{enumerate}\n"
      ],
      "text/markdown": [
       "1. 0\n",
       "2. \n",
       "| <!--/--> | 100 |\n",
       "|---|---|\n",
       "| Sepal.Length | 0 |\n",
       "| Sepal.Width | 0 |\n",
       "| Petal.Length | 0 |\n",
       "| Petal.Width | 0 |\n",
       "\n",
       "\n",
       "\n",
       "\n"
      ],
      "text/plain": [
       "[[1]]\n",
       "[1] 0\n",
       "\n",
       "[[2]]\n",
       "             100\n",
       "Sepal.Length   0\n",
       "Sepal.Width    0\n",
       "Petal.Length   0\n",
       "Petal.Width    0\n"
      ]
     },
     "metadata": {},
     "output_type": "display_data"
    }
   ],
   "source": [
    "S"
   ]
  },
  {
   "cell_type": "code",
   "execution_count": 19,
   "metadata": {},
   "outputs": [
    {
     "data": {
      "text/html": [
       "<table>\n",
       "<thead><tr><th scope=col>Sepal.Length</th><th scope=col>Sepal.Width</th><th scope=col>Petal.Length</th><th scope=col>Petal.Width</th></tr></thead>\n",
       "<tbody>\n",
       "\t<tr><td>0</td><td>0</td><td>0</td><td>0</td></tr>\n",
       "</tbody>\n",
       "</table>\n"
      ],
      "text/latex": [
       "\\begin{tabular}{r|llll}\n",
       " Sepal.Length & Sepal.Width & Petal.Length & Petal.Width\\\\\n",
       "\\hline\n",
       "\t 0 & 0 & 0 & 0\\\\\n",
       "\\end{tabular}\n"
      ],
      "text/markdown": [
       "\n",
       "| Sepal.Length | Sepal.Width | Petal.Length | Petal.Width |\n",
       "|---|---|---|---|\n",
       "| 0 | 0 | 0 | 0 |\n",
       "\n"
      ],
      "text/plain": [
       "  Sepal.Length Sepal.Width Petal.Length Petal.Width\n",
       "1 0            0           0            0          "
      ]
     },
     "metadata": {},
     "output_type": "display_data"
    }
   ],
   "source": [
    "\n",
    "if(zs[i] < th1){\n",
    "    m = M[[i]]\n",
    "    mo = m\n",
    "    s = S[[i]]\n",
    "    k = K[[i]]\n",
    "    m = m + (xk - m)/k\n",
    "    s = s + (xk - m)*(xk - mo)\n",
    "    M[[i]] <- m\n",
    "    S[[i]] <- s\n",
    "    K[[i]] <- k+1\n",
    "}else if(zs[i] > th2){\n",
    "    j = length(M)\n",
    "    M[[j+1]] <- xk\n",
    "    S[[j+1]] <- 0\n",
    "    K[[j+1]] <- 1\n",
    "}\n"
   ]
  },
  {
   "cell_type": "code",
   "execution_count": null,
   "metadata": {},
   "outputs": [],
   "source": []
  },
  {
   "cell_type": "code",
   "execution_count": null,
   "metadata": {},
   "outputs": [],
   "source": []
  },
  {
   "cell_type": "code",
   "execution_count": null,
   "metadata": {},
   "outputs": [],
   "source": []
  }
 ],
 "metadata": {
  "kernelspec": {
   "display_name": "R",
   "language": "R",
   "name": "ir"
  },
  "language_info": {
   "codemirror_mode": "r",
   "file_extension": ".r",
   "mimetype": "text/x-r-source",
   "name": "R",
   "pygments_lexer": "r",
   "version": "3.6.1"
  }
 },
 "nbformat": 4,
 "nbformat_minor": 2
}
