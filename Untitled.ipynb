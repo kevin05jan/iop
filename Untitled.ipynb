{
 "cells": [
  {
   "cell_type": "code",
   "execution_count": null,
   "metadata": {},
   "outputs": [],
   "source": [
    "devtools::document()\n",
    "devtools::install()"
   ]
  },
  {
   "cell_type": "code",
   "execution_count": null,
   "metadata": {},
   "outputs": [],
   "source": [
    "data = readRDS(\"train_transaction.rds\")\n",
    "dict = iop::data2dict(file=\"dict.csv\")\n",
    "data = predict(dict, data)\n",
    "saveRDS(data, \"train_transaction.rds\")\n",
    "dim(data)"
   ]
  },
  {
   "cell_type": "code",
   "execution_count": 28,
   "metadata": {},
   "outputs": [
    {
     "data": {
      "text/html": [
       "<ol class=list-inline>\n",
       "\t<li>590540</li>\n",
       "\t<li>394</li>\n",
       "</ol>\n"
      ],
      "text/latex": [
       "\\begin{enumerate*}\n",
       "\\item 590540\n",
       "\\item 394\n",
       "\\end{enumerate*}\n"
      ],
      "text/markdown": [
       "1. 590540\n",
       "2. 394\n",
       "\n",
       "\n"
      ],
      "text/plain": [
       "[1] 590540    394"
      ]
     },
     "metadata": {},
     "output_type": "display_data"
    }
   ],
   "source": [
    "data = readRDS(\"train_transaction.rds\")\n",
    "dict = iop::data2dict(file=\"dict.csv\")\n",
    "##data = predict(dict, data)\n",
    "dim(data)"
   ]
  },
  {
   "cell_type": "code",
   "execution_count": 29,
   "metadata": {},
   "outputs": [
    {
     "data": {
      "text/html": [
       "9970"
      ],
      "text/latex": [
       "9970"
      ],
      "text/markdown": [
       "9970"
      ],
      "text/plain": [
       "[1] 9970"
      ]
     },
     "metadata": {},
     "output_type": "display_data"
    },
    {
     "data": {
      "text/html": [
       "9970"
      ],
      "text/latex": [
       "9970"
      ],
      "text/markdown": [
       "9970"
      ],
      "text/plain": [
       "[1] 9970"
      ]
     },
     "metadata": {},
     "output_type": "display_data"
    },
    {
     "data": {
      "text/html": [
       "19940"
      ],
      "text/latex": [
       "19940"
      ],
      "text/markdown": [
       "19940"
      ],
      "text/plain": [
       "[1] 19940"
      ]
     },
     "metadata": {},
     "output_type": "display_data"
    }
   ],
   "source": [
    "id_y = iop::dict2y(dict, data)\n",
    "time = data[[\"TransactionDT\"]]\n",
    "time = as.POSIXct(as.Date(as.POSIXct(time, origin = \"1970-01-01\")))\n",
    ".data2sets = iop::data2sets(y=data[[id_y]], t=time, sample=\"down\", split=.5, scale=1)\n",
    ".data2sets$n0\n",
    ".data2sets$n1\n",
    ".data2sets$n"
   ]
  },
  {
   "cell_type": "code",
   "execution_count": 30,
   "metadata": {},
   "outputs": [],
   "source": [
    "##\n",
    "## calibration phase\n",
    "##\n",
    "id_calib = .data2sets$id_learn[,1]\n",
    "id_xnum = iop::dict2xnum(dict, data)\n",
    ".na2rm = iop::na2rm(data[id_calib,])\n",
    ".const2rm = iop::const2rm(data[id_calib,])\n",
    ".nzv2rm = iop::nzv2rm(data[id_calib, id_xnum])\n",
    "id_train = .data2sets$id_train\n",
    "train = data[id_train,]\n",
    "train = predict(.na2rm, train)\n",
    "train = predict(.const2rm, train)\n",
    "train = predict(.nzv2rm, train)\n",
    "dim(train)\n",
    "id_xnum = iop::dict2xnum(dict, train)\n",
    ".num2norm = iop::num2norm(train[,id_xnum])\n",
    "train = predict(.num2norm, train)"
   ]
  },
  {
   "cell_type": "code",
   "execution_count": 33,
   "metadata": {},
   "outputs": [
    {
     "data": {
      "text/html": [
       "<ol class=list-inline>\n",
       "\t<li>5728</li>\n",
       "\t<li>99</li>\n",
       "</ol>\n"
      ],
      "text/latex": [
       "\\begin{enumerate*}\n",
       "\\item 5728\n",
       "\\item 99\n",
       "\\end{enumerate*}\n"
      ],
      "text/markdown": [
       "1. 5728\n",
       "2. 99\n",
       "\n",
       "\n"
      ],
      "text/plain": [
       "[1] 5728   99"
      ]
     },
     "metadata": {},
     "output_type": "display_data"
    },
    {
     "name": "stderr",
     "output_type": "stream",
     "text": [
      "Warning message in svm.default(x, y, scale = scale, ..., na.action = na.action):\n",
      "“Variable(s) ‘V305’ constant. Cannot scale data.”"
     ]
    }
   ],
   "source": [
    "##\n",
    "## learning phase\n",
    "##\n",
    "\n",
    ".data2sets = iop::data2sets(y=data[[id_y]], t=time, sample=\"down\", split=.2, scale=1)\n",
    "\n",
    "id_y = iop::dict2y(dict, data)\n",
    "id_learn = .data2sets$id_learn[,1]\n",
    "learn = data[id_learn,]\n",
    "learn = predict(.na2rm, learn)\n",
    "learn = predict(.const2rm, learn)\n",
    "learn = predict(.nzv2rm, learn)\n",
    "learn = predict(.num2norm, learn)\n",
    "learn[[id_y]] = ifelse(learn[[id_y]]==1,1,-1)\n",
    "dim(learn)\n",
    "f = iop::data2formula(dict, learn, \"xnum\")\n",
    "svm = e1071::svm(f, data=learn[,c(id_y, id_xnum)])"
   ]
  },
  {
   "cell_type": "code",
   "execution_count": null,
   "metadata": {},
   "outputs": [
    {
     "data": {
      "text/html": [
       "<ol class=list-inline>\n",
       "\t<li>119749</li>\n",
       "\t<li>99</li>\n",
       "</ol>\n"
      ],
      "text/latex": [
       "\\begin{enumerate*}\n",
       "\\item 119749\n",
       "\\item 99\n",
       "\\end{enumerate*}\n"
      ],
      "text/markdown": [
       "1. 119749\n",
       "2. 99\n",
       "\n",
       "\n"
      ],
      "text/plain": [
       "[1] 119749     99"
      ]
     },
     "metadata": {},
     "output_type": "display_data"
    }
   ],
   "source": [
    "id_test = .data2sets$id_train\n",
    "test = data[id_test,]\n",
    "test = predict(.na2rm, test)\n",
    "test = predict(.const2rm, test)\n",
    "test = predict(.nzv2rm, test)\n",
    "test = predict(.num2norm, test)\n",
    "dim(test)\n",
    "p = predict(svm, newdata=test)\n",
    "length(p)\n",
    "head(p)"
   ]
  },
  {
   "cell_type": "code",
   "execution_count": 39,
   "metadata": {},
   "outputs": [
    {
     "data": {
      "text/plain": [
       "\n",
       "Call:\n",
       "svm(formula = f, data = learn[, c(id_y, id_xnum)])\n",
       "\n",
       "\n",
       "Parameters:\n",
       "   SVM-Type:  eps-regression \n",
       " SVM-Kernel:  radial \n",
       "       cost:  1 \n",
       "      gamma:  0.01162791 \n",
       "    epsilon:  0.1 \n",
       "\n",
       "\n",
       "Number of Support Vectors:  5541\n"
      ]
     },
     "metadata": {},
     "output_type": "display_data"
    }
   ],
   "source": [
    "format(time, format=\"%Y-%m\")"
   ]
  },
  {
   "cell_type": "code",
   "execution_count": null,
   "metadata": {},
   "outputs": [],
   "source": [
    "f = iop::data2formula(dict, learn, \"xcat\")\n",
    "nb = e1071::naiveBayes(f, data=learn)\n",
    "p = predict(nb, newdata=learn)\n",
    "table(p, a=learn[[id_y]])"
   ]
  },
  {
   "cell_type": "code",
   "execution_count": null,
   "metadata": {},
   "outputs": [],
   "source": [
    "f = iop::data2formula(dict, learn, \"xcat\")\n",
    "\n",
    "tmp = learn[1:100,]\n",
    "tmp[[id_y]] = as.factor(sample(1:3, nrow(tmp), T))\n",
    "table(tmp[[id_y]])\n",
    "dt = rpart::rpart(f, data=tmp)\n",
    "\n",
    "p=predict(dt, newx=tmp)\n",
    "\n",
    "dt$frame$yval\n",
    "plot(dt)"
   ]
  },
  {
   "cell_type": "code",
   "execution_count": 1,
   "metadata": {},
   "outputs": [],
   "source": [
    "dt = rpart::rpart(Species ~ ., data=iris)"
   ]
  },
  {
   "cell_type": "code",
   "execution_count": 7,
   "metadata": {},
   "outputs": [
    {
     "name": "stdout",
     "output_type": "stream",
     "text": [
      "List of 14\n",
      " $ frame              :'data.frame':\t5 obs. of  9 variables:\n",
      "  ..$ var       : Factor w/ 3 levels \"<leaf>\",\"Petal.Length\",..: 2 1 3 1 1\n",
      "  ..$ n         : int [1:5] 150 50 100 54 46\n",
      "  ..$ wt        : num [1:5] 150 50 100 54 46\n",
      "  ..$ dev       : num [1:5] 100 0 50 5 1\n",
      "  ..$ yval      : num [1:5] 1 1 2 2 3\n",
      "  ..$ complexity: num [1:5] 0.5 0.01 0.44 0 0.01\n",
      "  ..$ ncompete  : int [1:5] 3 0 3 0 0\n",
      "  ..$ nsurrogate: int [1:5] 3 0 3 0 0\n",
      "  ..$ yval2     : num [1:5, 1:8] 1 1 2 2 3 50 50 0 0 0 ...\n",
      "  .. ..- attr(*, \"dimnames\")=List of 2\n",
      "  .. .. ..$ : NULL\n",
      "  .. .. ..$ : chr [1:8] \"\" \"\" \"\" \"\" ...\n",
      " $ where              : Named int [1:150] 2 2 2 2 2 2 2 2 2 2 ...\n",
      "  ..- attr(*, \"names\")= chr [1:150] \"1\" \"2\" \"3\" \"4\" ...\n",
      " $ call               : language rpart::rpart(formula = Species ~ ., data = iris)\n",
      " $ terms              :Classes 'terms', 'formula'  language Species ~ Sepal.Length + Sepal.Width + Petal.Length + Petal.Width\n",
      "  .. ..- attr(*, \"variables\")= language list(Species, Sepal.Length, Sepal.Width, Petal.Length, Petal.Width)\n",
      "  .. ..- attr(*, \"factors\")= int [1:5, 1:4] 0 1 0 0 0 0 0 1 0 0 ...\n",
      "  .. .. ..- attr(*, \"dimnames\")=List of 2\n",
      "  .. .. .. ..$ : chr [1:5] \"Species\" \"Sepal.Length\" \"Sepal.Width\" \"Petal.Length\" ...\n",
      "  .. .. .. ..$ : chr [1:4] \"Sepal.Length\" \"Sepal.Width\" \"Petal.Length\" \"Petal.Width\"\n",
      "  .. ..- attr(*, \"term.labels\")= chr [1:4] \"Sepal.Length\" \"Sepal.Width\" \"Petal.Length\" \"Petal.Width\"\n",
      "  .. ..- attr(*, \"order\")= int [1:4] 1 1 1 1\n",
      "  .. ..- attr(*, \"intercept\")= int 1\n",
      "  .. ..- attr(*, \"response\")= int 1\n",
      "  .. ..- attr(*, \".Environment\")=<environment: R_GlobalEnv> \n",
      "  .. ..- attr(*, \"predvars\")= language list(Species, Sepal.Length, Sepal.Width, Petal.Length, Petal.Width)\n",
      "  .. ..- attr(*, \"dataClasses\")= Named chr [1:5] \"factor\" \"numeric\" \"numeric\" \"numeric\" ...\n",
      "  .. .. ..- attr(*, \"names\")= chr [1:5] \"Species\" \"Sepal.Length\" \"Sepal.Width\" \"Petal.Length\" ...\n",
      " $ cptable            : num [1:3, 1:5] 0.5 0.44 0.01 0 1 2 1 0.5 0.06 1.17 ...\n",
      "  ..- attr(*, \"dimnames\")=List of 2\n",
      "  .. ..$ : chr [1:3] \"1\" \"2\" \"3\"\n",
      "  .. ..$ : chr [1:5] \"CP\" \"nsplit\" \"rel error\" \"xerror\" ...\n",
      " $ method             : chr \"class\"\n",
      " $ parms              :List of 3\n",
      "  ..$ prior: num [1:3(1d)] 0.333 0.333 0.333\n",
      "  .. ..- attr(*, \"dimnames\")=List of 1\n",
      "  .. .. ..$ : chr [1:3] \"1\" \"2\" \"3\"\n",
      "  ..$ loss : num [1:3, 1:3] 0 1 1 1 0 1 1 1 0\n",
      "  ..$ split: num 1\n",
      " $ control            :List of 9\n",
      "  ..$ minsplit      : int 20\n",
      "  ..$ minbucket     : num 7\n",
      "  ..$ cp            : num 0.01\n",
      "  ..$ maxcompete    : int 4\n",
      "  ..$ maxsurrogate  : int 5\n",
      "  ..$ usesurrogate  : int 2\n",
      "  ..$ surrogatestyle: int 0\n",
      "  ..$ maxdepth      : int 30\n",
      "  ..$ xval          : int 10\n",
      " $ functions          :List of 3\n",
      "  ..$ summary:function (yval, dev, wt, ylevel, digits)  \n",
      "  ..$ print  :function (yval, ylevel, digits)  \n",
      "  ..$ text   :function (yval, dev, wt, ylevel, digits, n, use.n)  \n",
      " $ numresp            : int 5\n",
      " $ splits             : num [1:14, 1:5] 150 150 150 150 0 0 0 100 100 100 ...\n",
      "  ..- attr(*, \"dimnames\")=List of 2\n",
      "  .. ..$ : chr [1:14] \"Petal.Length\" \"Petal.Width\" \"Sepal.Length\" \"Sepal.Width\" ...\n",
      "  .. ..$ : chr [1:5] \"count\" \"ncat\" \"improve\" \"index\" ...\n",
      " $ variable.importance: Named num [1:4] 89 81.3 54.1 36\n",
      "  ..- attr(*, \"names\")= chr [1:4] \"Petal.Width\" \"Petal.Length\" \"Sepal.Length\" \"Sepal.Width\"\n",
      " $ y                  : int [1:150] 1 1 1 1 1 1 1 1 1 1 ...\n",
      " $ ordered            : Named logi [1:4] FALSE FALSE FALSE FALSE\n",
      "  ..- attr(*, \"names\")= chr [1:4] \"Sepal.Length\" \"Sepal.Width\" \"Petal.Length\" \"Petal.Width\"\n",
      " - attr(*, \"xlevels\")= Named list()\n",
      " - attr(*, \"ylevels\")= chr [1:3] \"setosa\" \"versicolor\" \"virginica\"\n",
      " - attr(*, \"class\")= chr \"rpart\"\n"
     ]
    }
   ],
   "source": [
    "str(dt)"
   ]
  },
  {
   "cell_type": "code",
   "execution_count": 27,
   "metadata": {},
   "outputs": [
    {
     "ename": "ERROR",
     "evalue": "Error in frame$yval2[where, 1L + nclass + 1L:nclass, drop = FALSE]: subscript out of bounds\n",
     "output_type": "error",
     "traceback": [
      "Error in frame$yval2[where, 1L + nclass + 1L:nclass, drop = FALSE]: subscript out of bounds\nTraceback:\n",
      "1. predict(dt, iris)",
      "2. predict.rpart(dt, iris)"
     ]
    }
   ],
   "source": [
    "predict(dt, iris)"
   ]
  },
  {
   "cell_type": "code",
   "execution_count": null,
   "metadata": {},
   "outputs": [],
   "source": [
    "th1 = 1.5\n",
    "th2 = 2.5\n",
    "xk = t(iris[100, 1:4])\n",
    "zs = sapply(1:length(M), function(i){\n",
    "    m = M[[i]]\n",
    "    s = S[[i]]\n",
    "    k = K[[i]]\n",
    "    sd = ifelse(k==1,1,sqrt(s/(k-1)))\n",
    "    z = mean((xk-m)/sd)\n",
    "    abs(z)\n",
    "})\n",
    "\n",
    "## find the lowest z score\n",
    "## if the score is below theta1\n",
    "## then update that centroid\n",
    "## else if score is > theta2\n",
    "## then add new centroid\n",
    "## else????\n",
    "if(zs[i] < th1){\n",
    "    m = M[[i]]\n",
    "    mo = m\n",
    "    s = S[[i]]\n",
    "    k = K[[i]]\n",
    "    m = m + (xk - m)/k\n",
    "    s = s + (xk - m)*(xk - mo)\n",
    "    M[[i]] <- m\n",
    "    S[[i]] <- s\n",
    "    K[[i]] <- k+1\n",
    "}"
   ]
  },
  {
   "cell_type": "code",
   "execution_count": null,
   "metadata": {},
   "outputs": [],
   "source": [
    "S"
   ]
  },
  {
   "cell_type": "code",
   "execution_count": null,
   "metadata": {},
   "outputs": [],
   "source": [
    "\n",
    "if(zs[i] < th1){\n",
    "    m = M[[i]]\n",
    "    mo = m\n",
    "    s = S[[i]]\n",
    "    k = K[[i]]\n",
    "    m = m + (xk - m)/k\n",
    "    s = s + (xk - m)*(xk - mo)\n",
    "    M[[i]] <- m\n",
    "    S[[i]] <- s\n",
    "    K[[i]] <- k+1\n",
    "}else if(zs[i] > th2){\n",
    "    j = length(M)\n",
    "    M[[j+1]] <- xk\n",
    "    S[[j+1]] <- 0\n",
    "    K[[j+1]] <- 1\n",
    "}\n"
   ]
  },
  {
   "cell_type": "code",
   "execution_count": null,
   "metadata": {},
   "outputs": [],
   "source": []
  },
  {
   "cell_type": "code",
   "execution_count": null,
   "metadata": {},
   "outputs": [],
   "source": []
  },
  {
   "cell_type": "code",
   "execution_count": null,
   "metadata": {},
   "outputs": [],
   "source": []
  }
 ],
 "metadata": {
  "kernelspec": {
   "display_name": "R",
   "language": "R",
   "name": "ir"
  },
  "language_info": {
   "codemirror_mode": "r",
   "file_extension": ".r",
   "mimetype": "text/x-r-source",
   "name": "R",
   "pygments_lexer": "r",
   "version": "3.5.1"
  }
 },
 "nbformat": 4,
 "nbformat_minor": 2
}
