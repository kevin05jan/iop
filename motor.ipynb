{
 "cells": [
  {
   "cell_type": "code",
   "execution_count": 2,
   "metadata": {},
   "outputs": [],
   "source": [
    "data = readRDS(\"../motor/KFZ201705031700.rds\")\n",
    "dict = iop::data2dict(file=\"../motor/dict.csv\")\n"
   ]
  },
  {
   "cell_type": "code",
   "execution_count": 1,
   "metadata": {},
   "outputs": [
    {
     "data": {
      "text/html": [
       "1"
      ],
      "text/latex": [
       "1"
      ],
      "text/markdown": [
       "1"
      ],
      "text/plain": [
       "[1] 1"
      ]
     },
     "metadata": {},
     "output_type": "display_data"
    }
   ],
   "source": []
  },
  {
   "cell_type": "code",
   "execution_count": null,
   "metadata": {},
   "outputs": [],
   "source": [
    "devtools::document()\n",
    "devtools::install()"
   ]
  },
  {
   "cell_type": "code",
   "execution_count": 3,
   "metadata": {},
   "outputs": [
    {
     "data": {
      "text/plain": [
       "         \n",
       "ymx           0     1\n",
       "  2016-01 15375    26\n",
       "  2016-02 15715    22\n",
       "  2016-03 17292    25\n",
       "  2016-04 17912    28\n",
       "  2016-05 18727    44\n",
       "  2016-06 19843    34\n",
       "  2016-07   695     2"
      ]
     },
     "metadata": {},
     "output_type": "display_data"
    }
   ],
   "source": [
    "id_y = iop::dict2y(dict, data)\n",
    "time = data[[\"IDVAR_CLMOPENINGDATE\"]]\n",
    "ymd = as.POSIXct(as.Date(as.POSIXct(time)))\n",
    "ymx = (format(ymd, format=\"%Y-%m\"))\n",
    "data[[id_y]] = (as.character(data[[id_y]]))\n",
    "\n",
    "table(ymx, data[[id_y]])\n",
    "ym = unique(ymx)"
   ]
  },
  {
   "cell_type": "code",
   "execution_count": null,
   "metadata": {},
   "outputs": [],
   "source": []
  },
  {
   "cell_type": "code",
   "execution_count": null,
   "metadata": {},
   "outputs": [],
   "source": [
    "library(dplyr)\n",
    "library(ggplot2)\n",
    "i = 1\n",
    ".ym = ym[i]\n",
    "y = data[[id_y]]\n",
    "i0 = which(ymx == ym[i] & y == 0)\n",
    "i1 = which(ymx <= ym[i] & y == 1)\n",
    "id = c(i0, i1)\n",
    "id_xnum = iop::dict2xnum(dict, CALIB)\n",
    "df = data[id,id_xnum] %>% \n",
    "tidyr::gather(k,v) %>%\n",
    "group_by(k) %>%\n",
    "mutate(v=(v-min(v))/diff(range(v))) %>%\n",
    "filter(length(unique(v)) > 2) %>%\n",
    "ungroup \n",
    "\n",
    "head(df)"
   ]
  },
  {
   "cell_type": "code",
   "execution_count": null,
   "metadata": {},
   "outputs": [],
   "source": [
    "kk = unique(df$k)\n",
    "length(kk)\n",
    "df %>% filter(k==kk[7]) %>% \n",
    "mutate(v1 = log(v)) %>%\n",
    "tidyr::gather(kk, vv, -k) %>%\n",
    "ggplot(aes(vv)) + geom_histogram(size=1, alpha=.1) + facet_wrap(~kk, scales=\"free_y\") "
   ]
  },
  {
   "cell_type": "code",
   "execution_count": null,
   "metadata": {},
   "outputs": [],
   "source": []
  },
  {
   "cell_type": "code",
   "execution_count": null,
   "metadata": {},
   "outputs": [],
   "source": []
  },
  {
   "cell_type": "code",
   "execution_count": 4,
   "metadata": {},
   "outputs": [
    {
     "data": {
      "text/html": [
       "<ol class=list-inline>\n",
       "\t<li>18872</li>\n",
       "\t<li>313</li>\n",
       "</ol>\n"
      ],
      "text/latex": [
       "\\begin{enumerate*}\n",
       "\\item 18872\n",
       "\\item 313\n",
       "\\end{enumerate*}\n"
      ],
      "text/markdown": [
       "1. 18872\n",
       "2. 313\n",
       "\n",
       "\n"
      ],
      "text/plain": [
       "[1] 18872   313"
      ]
     },
     "metadata": {},
     "output_type": "display_data"
    },
    {
     "data": {
      "text/html": [
       "18727"
      ],
      "text/latex": [
       "18727"
      ],
      "text/markdown": [
       "18727"
      ],
      "text/plain": [
       "[1] 18727"
      ]
     },
     "metadata": {},
     "output_type": "display_data"
    },
    {
     "data": {
      "text/html": [
       "145"
      ],
      "text/latex": [
       "145"
      ],
      "text/markdown": [
       "145"
      ],
      "text/plain": [
       "[1] 145"
      ]
     },
     "metadata": {},
     "output_type": "display_data"
    },
    {
     "data": {
      "text/html": [
       "<ol class=list-inline>\n",
       "\t<li>18872</li>\n",
       "\t<li>259</li>\n",
       "</ol>\n"
      ],
      "text/latex": [
       "\\begin{enumerate*}\n",
       "\\item 18872\n",
       "\\item 259\n",
       "\\end{enumerate*}\n"
      ],
      "text/markdown": [
       "1. 18872\n",
       "2. 259\n",
       "\n",
       "\n"
      ],
      "text/plain": [
       "[1] 18872   259"
      ]
     },
     "metadata": {},
     "output_type": "display_data"
    }
   ],
   "source": [
    "i = 5\n",
    ".ym = ym[i]\n",
    "y = data[[id_y]]\n",
    "i0 = which(ymx == ym[i] & y == 0)\n",
    "i1 = which(ymx <= ym[i] & y == 1)\n",
    "id_calib = c(i0, i1)\n",
    "CALIB = data[id_calib,]\n",
    "dim(CALIB)\n",
    "\n",
    "length(i0)\n",
    "length(i1)\n",
    "\n",
    "## calibrating\n",
    ".na2rm = iop::na2rm(CALIB)\n",
    "CALIB = predict(.na2rm, CALIB)\n",
    ".const2rm = iop::const2rm(CALIB)\n",
    "CALIB = predict(.const2rm, CALIB)\n",
    "id_xnum = iop::dict2xnum(dict, CALIB)\n",
    ".nzv2rm = iop::nzv2rm(CALIB[,id_xnum])\n",
    "CALIB = predict(.nzv2rm, CALIB)\n",
    "id_xnum = iop::dict2xnum(dict, CALIB)\n",
    ".cor2rm = iop::cor2rm(CALIB[,id_xnum])\n",
    "CALIB = predict(.cor2rm, CALIB)\n",
    "id_xnum = iop::dict2xnum(dict, CALIB)\n",
    ".num2scale = iop::num2scale(CALIB[,id_xnum])\n",
    "#CALIB = predict(.num2scale, CALIB)\n",
    "\n",
    "dim(CALIB)"
   ]
  },
  {
   "cell_type": "code",
   "execution_count": null,
   "metadata": {},
   "outputs": [],
   "source": []
  },
  {
   "cell_type": "code",
   "execution_count": null,
   "metadata": {},
   "outputs": [],
   "source": []
  },
  {
   "cell_type": "code",
   "execution_count": 9,
   "metadata": {},
   "outputs": [
    {
     "data": {
      "text/plain": [
       "\n",
       "    0     1 \n",
       "18727   145 "
      ]
     },
     "metadata": {},
     "output_type": "display_data"
    }
   ],
   "source": [
    "table(LEARN[[id_y]])"
   ]
  },
  {
   "cell_type": "code",
   "execution_count": 6,
   "metadata": {},
   "outputs": [
    {
     "data": {
      "image/png": "[encoded data removed]",
      "text/plain": [
       "Plot with title “rf”"
      ]
     },
     "metadata": {},
     "output_type": "display_data"
    }
   ],
   "source": [
    "\n",
    "    i = 5\n",
    "    .ym = ym[i]\n",
    "    y = data[[id_y]]\n",
    "    i0 = which(ymx == ym[i] & y == 0)\n",
    "    i1 = which(ymx <= ym[i] & y == 1)\n",
    "    id_learn = c(i0, i1)\n",
    "    LEARN = data[id_learn,]\n",
    "LEARN[[id_y]] = as.factor(LEARN[[id_y]])\n",
    "    f = iop::data2formula(dict, CALIB, varx=\"xnum\")\n",
    "    .num2selrf = num2selrf(LEARN, f)"
   ]
  },
  {
   "cell_type": "code",
   "execution_count": 43,
   "metadata": {},
   "outputs": [
    {
     "data": {
      "text/html": [
       "123"
      ],
      "text/latex": [
       "123"
      ],
      "text/markdown": [
       "123"
      ],
      "text/plain": [
       "[1] 123"
      ]
     },
     "metadata": {},
     "output_type": "display_data"
    },
    {
     "data": {
      "text/plain": [
       "$sel\n",
       " [1] \"IDVAR_POLINSTALLMENTPREMIUM\"         \"IDVAR_INVSTATEDVALUE\"               \n",
       " [3] \"IDVAR_POLEFFECTIVEFROMDATEMON\"       \"IDVAR_CLMCLOSINGBEFORERENEWALDAYS\"  \n",
       " [5] \"IDVAR_CLMCLOSINGAFTERRENEWALDAYS\"    \"IDVAR_INPDOBTOEVTDATE\"              \n",
       " [7] \"IDVAR_INVENGINSPECTIONDAYS\"          \"IDVAR_CLMREPORTINGTIMEAFTERINCIDENT\"\n",
       " [9] \"IDVAR_CLMOPENINGAFTERSTARTDAYS\"      \"IDVAR_EVTDAYSFROMPAYMENTDUE\"        \n",
       "[11] \"IDVAR_INSERTTOACPADDRESSPROFILE\"     \"IDVAR_CLMEXPENSET\"                  \n",
       "[13] \"IDVAR_CLMEVENTAFTERSTARTDAYS\"       \n",
       "\n",
       "attr(,\"class\")\n",
       "[1] \"num2selrf\""
      ]
     },
     "metadata": {},
     "output_type": "display_data"
    },
    {
     "data": {
      "text/html": [
       "'IDVAR_FRAUD'"
      ],
      "text/latex": [
       "'IDVAR\\_FRAUD'"
      ],
      "text/markdown": [
       "'IDVAR_FRAUD'"
      ],
      "text/plain": [
       "[1] \"IDVAR_FRAUD\""
      ]
     },
     "metadata": {},
     "output_type": "display_data"
    },
    {
     "data": {
      "text/html": [
       "20022"
      ],
      "text/latex": [
       "20022"
      ],
      "text/markdown": [
       "20022"
      ],
      "text/plain": [
       "[1] 20022"
      ]
     },
     "metadata": {},
     "output_type": "display_data"
    },
    {
     "data": {
      "text/html": [
       "20022"
      ],
      "text/latex": [
       "20022"
      ],
      "text/markdown": [
       "20022"
      ],
      "text/plain": [
       "[1] 20022"
      ]
     },
     "metadata": {},
     "output_type": "display_data"
    },
    {
     "data": {
      "text/plain": [
       "   a\n",
       "p       0     1\n",
       "  0 19837   143\n",
       "  1     6    36"
      ]
     },
     "metadata": {},
     "output_type": "display_data"
    },
    {
     "data": {
      "image/png": "[encoded data removed]",
      "text/plain": [
       "plot without title"
      ]
     },
     "metadata": {},
     "output_type": "display_data"
    }
   ],
   "source": [
    "length(id_xnum)\n",
    ".num2selrf\n",
    "id_y\n",
    "df = LEARN[, c(id_y, .num2selrf$sel)] \n",
    "#df = LEARN[,c(id_y, id_x)]\n",
    "\n",
    "colnames(df) = gsub(\"IDVAR_\", \"\", colnames(df))\n",
    "dt = rpart::rpart(FRAUD ~ ., data=df)\n",
    "\n",
    "plot(partykit::as.party(dt),tp_args = list(text = \"vertical\", ymax = 1.5))\n",
    "\n",
    "    i0 = which(ymx == ym[i+1] & y == 0)\n",
    "    i1 = which(ymx <= ym[i+1] & y == 1)\n",
    "    id_eval = c(i0, i1)\n",
    "df = data[id_eval, ]\n",
    "colnames(df) = gsub(\"IDVAR_\", \"\", colnames(df))\n",
    "p=predict(dt, df, type=\"class\")\n",
    "length(p)\n",
    "nrow(df)\n",
    "table(p, a=df$FRAUD)"
   ]
  },
  {
   "cell_type": "code",
   "execution_count": 28,
   "metadata": {},
   "outputs": [],
   "source": [
    "num2selrf <- function(x, f, thresh=5, ntree=10){\n",
    "    rf = randomForest::randomForest(f, data=x, ntree=10)\n",
    "    plot(rf)\n",
    "    labs = rownames(rf$importance)\n",
    "    sel = labs[rf$importance >= thresh]\n",
    "    model = list(sel=sel)\n",
    "    class(model) = c(\"num2selrf\")\n",
    "    return(model)\n",
    "}\n",
    "\n",
    "predict.num2selrf <- function(model){\n",
    "    model$sel\n",
    "}"
   ]
  },
  {
   "cell_type": "code",
   "execution_count": 32,
   "metadata": {},
   "outputs": [
    {
     "data": {
      "text/html": [
       "<strong>png:</strong> 2"
      ],
      "text/latex": [
       "\\textbf{png:} 2"
      ],
      "text/markdown": [
       "**png:** 2"
      ],
      "text/plain": [
       "png \n",
       "  2 "
      ]
     },
     "metadata": {},
     "output_type": "display_data"
    }
   ],
   "source": [
    "dev.off(4)"
   ]
  },
  {
   "cell_type": "code",
   "execution_count": null,
   "metadata": {},
   "outputs": [],
   "source": [
    "x = predict(.num2norm, CALIB, \"minmax\")\n",
    "smooth = .001\n",
    "id_xnum = iop::dict2xnum(dict, CALIB)\n",
    "x[,id_xnum] = lapply(id_xnum, function(i) log(x[[i]]+smooth))\n",
    "\n"
   ]
  },
  {
   "cell_type": "code",
   "execution_count": null,
   "metadata": {},
   "outputs": [],
   "source": [
    "f = iop::data2formula(dict, CALIB, varx=\"xnum\")\n",
    "    rf = randomForest::randomForest(f, data=x, ntree=10)\n",
    "    labs = rownames(rf$importance)\n",
    "    log.sel = labs[rf$importance >= 5]"
   ]
  },
  {
   "cell_type": "code",
   "execution_count": null,
   "metadata": {},
   "outputs": [],
   "source": [
    "aa = num2selrf(CALIB, f)"
   ]
  },
  {
   "cell_type": "code",
   "execution_count": null,
   "metadata": {},
   "outputs": [],
   "source": [
    ".num2selrf = aa"
   ]
  },
  {
   "cell_type": "code",
   "execution_count": null,
   "metadata": {},
   "outputs": [],
   "source": [
    "##\n",
    "## NBTree\n",
    "##\n",
    "## - Decision tree-based paritioning of the data (unbalanced)\n",
    "## - No interaction data (needed)\n",
    "## - Data subsets at each leaf node is a Naive Bayes Classifer\n",
    "## - Prediction:\n",
    "##     if DT == 0 -> 0\n",
    "##     if NB == 1 -> 1\n",
    "##     else       -> 0\n",
    "##\n",
    "\n",
    "    i = 5\n",
    "    .ym = ym[i]\n",
    "    y = data[[id_y]]\n",
    "    i0 = which(ymx == ym[i] & y == 0)\n",
    "    i1 = which(ymx <= ym[i] & y == 1)\n",
    "    id_learn = c(i0, i1)\n",
    "    LEARN = data[id_learn,]\n",
    "    id_y = iop::dict2y(dict, CALIB)\n",
    "    f = paste0(id_y, \" ~ \", paste0(.num2selrf$sel, collapse=\" + \"))\n",
    "    loss = matrix(c(0, 1, 5, 0), ncol=2, byrow=T)\n",
    "    library(partykit)\n",
    "    dt = rpart::rpart(f, data=LEARN, parms=list(loss=loss, split=\"information\"))\n",
    "\n",
    "    nb = fastNaiveBayes::fastNaiveBayes(x=LEARN[,id_xnum], y=LEARN[[id_y]])## comparison\n",
    "\n",
    "    fit = fitted(as.party(dt))\n",
    "    id_node = fit[,1]\n",
    "    nodes = unique(id_node)\n",
    "    id_xnum = iop::dict2xnum(dict, CALIB)\n",
    "    NBTree = list()\n",
    "    tt = table(LEARN[[id_y]])\n",
    "    priors = as.numeric(tt/sum(tt))\n",
    "    tmp = lapply(nodes, function(node){\n",
    "        sel = id_node == node\n",
    "        x = data[sel,id_xnum]\n",
    "        if(nrow(x) < 10){\n",
    "            return(NULL)\n",
    "        }else{\n",
    "            x[is.na(x)] = 0\n",
    "            y = data[[id_y]][sel]\n",
    "            NBTree[[node]] <<- fastNaiveBayes::fastNaiveBayes(x=x, y=y, priors=priors)\n",
    "        }\n",
    "    })\n"
   ]
  },
  {
   "cell_type": "code",
   "execution_count": null,
   "metadata": {},
   "outputs": [],
   "source": [
    "y = data[[id_y]]\n",
    "i0 = which(ymx == ym[i+1] & y == 0)\n",
    "i1 = which(ymx <= ym[i+1] & y == 1)\n",
    "n0 = length(i1)\n",
    "id_eval = c(sample(i0, n0), i1)\n",
    "#id_eval = c(i0,i1)\n",
    "EVAL = data[id_eval,]\n",
    "dim(EVAL)\n",
    "\n",
    "library(fastNaiveBayes)\n",
    "p_node = predict(as.party(dt), newdata=EVAL[,id_xnum], type=\"node\")\n",
    "p_nb = rep(NA,length(p_node))\n",
    "p_nb = list()\n",
    "p_nb[nodes] = lapply(nodes, function(node){\n",
    "    nb\n",
    "    p = predict(NBTree[[node]], newdata=EVAL[,id_xnum], type=\"class\")\n",
    "    p\n",
    "})\n",
    "\n",
    "p_dt = as.character(predict(dt, newdata=EVAL[,id_xnum], type=\"class\"))\n",
    "\n",
    "p_nb. = as.character(predict(nb, newdata=EVAL[,id_xnum], type=\"class\"))\n",
    "\n",
    "p_nbtree = as.character(sapply(1:length(p_node), function(i){\n",
    "    p_nb[[p_node[i]]][i]\n",
    "}))\n",
    "a = as.character(EVAL[[id_y]])\n",
    "table(p_dt, a)\n",
    "\n",
    "table(p_nb., a)\n",
    "\n",
    "table(p_dt, p_nbtree, a)\n",
    "p = ifelse(p_dt == 0, p_dt, ifelse(p_nbtree == 1, p_nbtree, 0))\n",
    "table(p,a)\n",
    "\n",
    "    conf = as.matrix(table(p,a))\n",
    "    TP = conf[2,2]\n",
    "    FP = conf[2,1]\n",
    "    FN = conf[1,2]\n",
    "    PPV = TP / (TP+FP)\n",
    "    REC = TP / (TP+FN)\n",
    "    F1 = PPV*REC*2/(REC+PPV)\n",
    "PPV\n",
    "REC\n",
    "F1\n"
   ]
  },
  {
   "cell_type": "code",
   "execution_count": null,
   "metadata": {},
   "outputs": [],
   "source": [
    "names(.num2norm$lut)"
   ]
  },
  {
   "cell_type": "code",
   "execution_count": null,
   "metadata": {},
   "outputs": [],
   "source": [
    "num2interaction <- function(x, ...){\n",
    "    labs = colnames(x)\n",
    "    comb = combn(labs,m=2)\n",
    "    combs = 1:ncol(comb)\n",
    "    newx = list()\n",
    "    newx[combs] = lapply(combs, function(i){\n",
    "        a = comb[1,i]\n",
    "        b = comb[2,i]\n",
    "        x[[a]] * x[[b]]\n",
    "    })\n",
    "\n",
    "    name = sapply(combs, function(i){\n",
    "        a = comb[1,i]\n",
    "        b = comb[2,i]\n",
    "        paste0(a,\"_x_\",b)\n",
    "    })\n",
    "    return(as.data.frame(newx, col.names=name))\n",
    "}"
   ]
  },
  {
   "cell_type": "code",
   "execution_count": null,
   "metadata": {},
   "outputs": [],
   "source": [
    "## SVM\n",
    "##\n",
    "## - Linear model with interaction (terms)\n",
    "## \n",
    "\n",
    "    i = 5\n",
    "    .ym = ym[i]\n",
    "    y = data[[id_y]]\n",
    "    i0 = which(ymx == ym[i] & y == 0)\n",
    "    i1 = which(ymx <= ym[i] & y == 1)\n",
    "    n0 = length(i1)\n",
    "    ##id_learn = c(sample(i0, n0), i1)\n",
    "    id_learn = c(i0, i1)\n",
    "    id_xnum = iop::dict2xnum(dict, CALIB, varx=\"xnum\")\n",
    "##id_xnum = .num2selrf$sel\n",
    "    LEARN = data[id_learn,]\n",
    "LEARN = predict(.num2scale, LEARN, \"sc\")\n",
    "dim(LEARN)\n",
    "    sel = complete.cases(LEARN[,id_xnum])\n",
    "    LEARN = LEARN[sel,]\n",
    "dat = LEARN[, id_xnum]\n",
    "    svm = LiblineaR::LiblineaR(data=dat,target=LEARN[[id_y]])\n",
    "\n",
    "    y = data[[id_y]]\n",
    "    i0 = which(ymx >= ym[i+1] & y == 0)\n",
    "    i1 = which(ymx <= ym[i+1] & y == 1)\n",
    "    n0 = length(i1)\n",
    "n0\n",
    "    #id_eval = c(sample(i0, n0), i1)\n",
    "    id_eval = c(i0,i1)\n",
    "    EVAL = data[id_eval,]\n",
    "    sel = complete.cases(EVAL[,id_xnum])\n",
    "    EVAL = EVAL[sel,]\n",
    "EVAL = predict(.num2scale, EVAL, \"sc\")\n",
    "dat = EVAL[, id_xnum]\n",
    "    dim(EVAL)\n",
    "    #p = predict(svm, newx=EVAL[,id_xnum])\n",
    "    p = predict(svm, newx=dat)$predictions\n",
    "    a = EVAL[[id_y]]\n",
    "    table(p,a)\n",
    "\n",
    "    conf = as.matrix(table(p,a))\n",
    "    TP = conf[2,2]\n",
    "    FP = conf[2,1]\n",
    "    FN = conf[1,2]\n",
    "    PPV = TP / (TP+FP)\n",
    "    REC = TP / (TP+FN)\n",
    "    F1 = PPV*REC*2/(REC+PPV)\n",
    "PPV\n",
    "REC\n",
    "F1\n"
   ]
  },
  {
   "cell_type": "code",
   "execution_count": null,
   "metadata": {},
   "outputs": [],
   "source": [
    "dt = iris[1:100, c(1:2,5)]\n",
    "dt$Species = ifelse(dt$Species == \"setosa\", 1, -1)\n",
    "dt[,1:2] = scale(dt[,1:2])\n",
    "esvm = e1071::svm(Species ~. , dt, kernel=\"linear\")\n",
    "lsvm = LiblineaR::LiblineaR(dt[,1:2], dt[[3]])\n",
    "\n",
    "sl = (t(esvm$coefs) %*% esvm$SV)\n",
    "\n",
    "library(ggplot2)\n",
    "\n",
    "X1 = seq(min(dt[,1]), max(dt[,1]), length.out = 10) \n",
    "X2 = seq(min(dt[,2]), max(dt[,2]), length.out = 10) \n",
    "  \n",
    "\n",
    "w <- t(esvm$coefs) %*% esvm$SV\n",
    "b <- -esvm$rho\n",
    "i = -b/w[1,2]\n",
    "s = -w[1,1]/w[1,2]\n",
    "# in this 2D case the hyperplane is the line w[1,1]*x1 + w[1,2]*x2 + b = 0\n",
    "# abline(a=-b/w[1,2], b=-w[1,1]/w[1,2], col=\"blue\", lty=3)\n",
    "\n",
    "ww = lsvm$W[1,1:2]\n",
    "bb = lsvm$W[1,3]\n",
    "\n",
    "ii = -bb/ww[2]\n",
    "ss = -ww[1]/ww[2]\n",
    "\n",
    "grid = expand.grid(X1, X2) \n",
    "colnames(grid) = colnames(dt)[1:2] \n",
    "y_grid = predict(esvm, newdata = grid) \n",
    "\n",
    "\n",
    "\n",
    "\n",
    "\n",
    "\n",
    "h = sqrt(sum(lsvm$W[,1:(ncol(lsvm$W)-1)]^2))\n",
    "predict(esvm, newx=dt, type=\"score\")\n",
    "d = apply(dt[,1:2],1,function(x)sqrt(sum(x-h)^2))\n",
    "          \n",
    "dt$d = 1\n",
    "\n",
    "ggplot() + geom_tile(data=data.frame(grid, p=y_grid),aes(Sepal.Length, Sepal.Width, fill=p), alpha=.1) + \n",
    "geom_point(data=dt, aes(Sepal.Length, Sepal.Width, color=Species, size=d), alpha=.5) +\n",
    "geom_point(data=as.data.frame(esvm$SV), aes(Sepal.Length, Sepal.Width)) + \n",
    "geom_abline(intercept = i, slope = s, color=\"blue\") + \n",
    "geom_abline(intercept = ii, slope=ss, color=\"red\")\n",
    "\n"
   ]
  },
  {
   "cell_type": "code",
   "execution_count": null,
   "metadata": {},
   "outputs": [],
   "source": [
    "lsvm$W"
   ]
  },
  {
   "cell_type": "code",
   "execution_count": null,
   "metadata": {},
   "outputs": [],
   "source": [
    "## with all xnum\n",
    "\n",
    "18872 313 \n",
    "\n",
    "    20022 313 \n",
    "\n",
    "   a\n",
    "p       0     1\n",
    "  0 19841   162\n",
    "  1     2    17\n",
    "\n",
    "0.894736842105263\n",
    "0.0949720670391061\n",
    "0.171717171717172\n",
    "\n",
    "## only with selrf\n",
    "     18872 313 \n",
    "\n",
    "179\n",
    "\n",
    "    20717 313 \n",
    "\n",
    "   a\n",
    "p       0     1\n",
    "  0 20538   163\n",
    "  1     0    16\n",
    "\n",
    "1\n",
    "0.0893854748603352\n",
    "0.164102564102564"
   ]
  },
  {
   "cell_type": "code",
   "execution_count": null,
   "metadata": {},
   "outputs": [],
   "source": [
    ".num2selrf$sel"
   ]
  },
  {
   "cell_type": "code",
   "execution_count": null,
   "metadata": {},
   "outputs": [],
   "source": [
    "dat[1:10,]"
   ]
  },
  {
   "cell_type": "code",
   "execution_count": null,
   "metadata": {},
   "outputs": [],
   "source": [
    "library(ggplot2)"
   ]
  },
  {
   "cell_type": "code",
   "execution_count": null,
   "metadata": {},
   "outputs": [],
   "source": [
    "dat = iris[1:100, c(1:2,5)]\n",
    "\n",
    "dat[,1:2] = lapply(1:2, function(x){ (dat[[x]]-min(dat[[x]]))/diff(range(dat[[x]])) })\n",
    "\n",
    "svmfit = LiblineaR::LiblineaR(dat[,1:2],dat[,3])\n",
    "grid <- expand.grid(seq(min(dat[, 1]), max(dat[, 1]),length.out=10),                                                                                                         \n",
    "                            seq(min(dat[, 2]), max(dat[, 2]),length.out=10)) \n",
    "names(grid) <- names(dat)[1:2]\n",
    "preds <- predict(svmfit, newx=grid)$predictions\n",
    "df.0 <- data.frame(grid, preds, l=\"0\")\n",
    "\n",
    "##ggplot(df.0, aes(Sepal.Length, Sepal.Width, fill=as.integer(preds))) + geom_tile()  +\n",
    "##geom_point(data=dat, aes(Sepal.Length, Sepal.Width))\n",
    "\n",
    "\n",
    "\n",
    "d1 = dat[10:15,]\n",
    "d0 = dat[51:100,]\n",
    "dat2 = rbind(d1, d0)\n",
    "svmfit = LiblineaR::LiblineaR(dat2[,1:2],dat2[,3])\n",
    "grid <- expand.grid(seq(min(dat2[, 1]), max(dat2[, 1]),length.out=10),                                                                                                         \n",
    "                            seq(min(dat2[, 2]), max(dat2[, 2]),length.out=10)) \n",
    "names(grid) <- names(dat2)[1:2]\n",
    "preds <- predict(svmfit, newx=grid)$predictions\n",
    "df.op <- data.frame(grid, preds, l=\"1\")\n",
    "\n",
    "ggplot(df.op, aes(Sepal.Length, Sepal.Width)) + geom_tile(aes(fill=as.integer(preds)))  + \n",
    "geom_point(data=d1,aes(Sepal.Length, Sepal.Width), color=\"red\") + \n",
    "geom_point(data=d0,aes(Sepal.Length, Sepal.Width), color=\"white\") \n",
    "\n"
   ]
  },
  {
   "cell_type": "code",
   "execution_count": null,
   "metadata": {},
   "outputs": [],
   "source": [
    "library(ggplot2)"
   ]
  },
  {
   "cell_type": "code",
   "execution_count": null,
   "metadata": {},
   "outputs": [],
   "source": [
    "dd = (data[i1,id_xnum])"
   ]
  },
  {
   "cell_type": "code",
   "execution_count": null,
   "metadata": {},
   "outputs": [],
   "source": [
    "d = dist(scale(dd))\n",
    "fit <- cmdscale(d,eig=TRUE, k=2) # k is the number of dim\n",
    "#fit # view results\n",
    "\n",
    "# plot solution\n",
    "x <- fit$points[,1]\n",
    "y <- fit$points[,2]\n",
    "df=data.frame(x,y)\n",
    "ggplot(df, aes(x,y))+geom_point()"
   ]
  },
  {
   "cell_type": "code",
   "execution_count": null,
   "metadata": {},
   "outputs": [],
   "source": []
  },
  {
   "cell_type": "code",
   "execution_count": null,
   "metadata": {},
   "outputs": [],
   "source": [
    "tsne = Rtsne::Rtsne(CALIB[,id_xnum], dims = 2, perplexity=30, verbose=TRUE, max_iter = 500)\n",
    "df = data.frame(x=tsne$Y[,1], y=tsne$Y[,2]) \n",
    "kk = kmeans((df), 10)\n",
    "df%>% mutate(p=predict(kk, df), p=as.character(p)) %>%\n",
    "arrange(p) %>%\n",
    "{ggplot(., aes(x,y,color=p)) + geom_point(alpha=.1, size=5) +geom_text(aes(label=p), size=5, color=\"black\")\n",
    "}\n",
    "\n",
    "\n",
    "\n",
    "dd$p = predict(kk, df)\n",
    "dd %>% filter(p==1)"
   ]
  },
  {
   "cell_type": "code",
   "execution_count": null,
   "metadata": {},
   "outputs": [],
   "source": [
    "predict.kmeans <- function(object, newdata){\n",
    "    centers <- object$centers\n",
    "    n_centers <- nrow(centers)\n",
    "    dist_mat <- as.matrix(dist(rbind(centers, newdata)))\n",
    "    dist_mat <- dist_mat[-seq(n_centers), seq(n_centers)]\n",
    "    max.col(-dist_mat)\n",
    "}"
   ]
  },
  {
   "cell_type": "code",
   "execution_count": null,
   "metadata": {},
   "outputs": [],
   "source": [
    "df%>% mutate(p=predict(kk, df), p=as.character(p)) %>%\n",
    "arrange(p) %>%\n",
    "{ggplot(., aes(x,y,color=p)) + geom_point(alpha=.1, size=1) \n",
    "}\n",
    "\n",
    "\n",
    "\n",
    "dd$p = predict(kk, df)\n",
    "dd %>% filter(p==1)"
   ]
  },
  {
   "cell_type": "code",
   "execution_count": null,
   "metadata": {},
   "outputs": [],
   "source": [
    "## SVMclust\n",
    "##\n",
    "## - Linear model with interaction (terms)\n",
    "## \n",
    "\n",
    "    i = 5\n",
    "    .ym = ym[i]\n",
    "    y = data[[id_y]]\n",
    "    i0 = which(ymx == ym[i] & y == 0)\n",
    "    i1 = which(ymx <= ym[i] & y == 1)\n",
    "    n0 = length(i1)\n",
    "    ##id_learn = c(sample(i0, n0), i1)\n",
    "\n",
    "x = data[c(i1,i0), id_xnum]\n",
    "y = data[c(i1,i0), id_y]\n",
    "\n",
    "i0 = which(y == 0)\n",
    "i1 = which(y == 1)\n",
    "\n",
    "dat = x[i1,]\n",
    "tsne = Rtsne::Rtsne(x, dims = 2, perplexity=30, verbose=TRUE, max_iter = 500)\n",
    "df = data.frame(x=tsne$Y[,1], y=tsne$Y[,2]) \n",
    "kk = kmeans((df), 5)\n",
    "\n",
    "predict.kmeans <- function(object, newdata){\n",
    "    centers <- object$centers\n",
    "    n_centers <- nrow(centers)\n",
    "    dist_mat <- as.matrix(dist(rbind(centers, newdata)))\n",
    "    dist_mat <- dist_mat[-seq(n_centers), seq(n_centers)]\n",
    "    max.col(-dist_mat)\n",
    "}\n",
    "\n",
    "p1 = predict(kk, df)\n",
    "\n",
    "\n",
    "centers = unique(p1)\n",
    "SVMclust = list()\n",
    "SVMclust[centers] = lapply(centers, function(center){\n",
    "    id_learn = c(i0, i1[p1 == center])\n",
    "    svm = LiblineaR::LiblineaR(data=x[id_learn,],target=y[id_learn],\n",
    "                               wi = c(\"0\"=1,\"1\"=100),cost=100)\n",
    "})\n",
    "\n",
    "    i = 5\n",
    "    .ym = ym[i]\n",
    "    y = data[[id_y]]\n",
    "    i0 = which(ymx == ym[i] & y == 0)\n",
    "    i1 = which(ymx <= ym[i] & y == 1)\n",
    "    n0 = length(i1)\n",
    "EVAL = data[c(i0,i1),]\n",
    "ll = list()\n",
    "ll[centers] = lapply(centers, function(i){\n",
    "    p = predict(SVMclust[[i]], newx=EVAL[,id_xnum])$predictions\n",
    "    as.numeric(as.character(p))\n",
    "})\n",
    "p = ifelse(apply(as.data.frame(ll),1,sum)/length(centers) > .5,1,0)\n",
    "table(p,a=EVAL[[id_y]])"
   ]
  },
  {
   "cell_type": "code",
   "execution_count": null,
   "metadata": {},
   "outputs": [],
   "source": [
    "w = c(5,1,1,1,5)\n",
    "w = w/sum(w)\n",
    "dt = as.data.frame(ll)\n",
    "table(apply(ifelse(as.matrix(dt), 1, function(i)sum(i*w) ) > .5,1,0), EVAL[[id_y]])"
   ]
  },
  {
   "cell_type": "code",
   "execution_count": null,
   "metadata": {},
   "outputs": [],
   "source": []
  },
  {
   "cell_type": "code",
   "execution_count": null,
   "metadata": {},
   "outputs": [],
   "source": [
    "library(ggplot2)\n",
    "library(dplyr)\n",
    "df%>% mutate(p=predict(kk, df), p=as.character(p)) %>%\n",
    "arrange(p) %>%\n",
    "{ggplot(., aes(x,y,color=p)) + geom_point(alpha=.1, size=5) +geom_text(aes(label=p), size=5, color=\"black\")\n",
    "}\n"
   ]
  },
  {
   "cell_type": "code",
   "execution_count": null,
   "metadata": {},
   "outputs": [],
   "source": [
    "class::knn"
   ]
  },
  {
   "cell_type": "code",
   "execution_count": null,
   "metadata": {},
   "outputs": [],
   "source": []
  },
  {
   "cell_type": "code",
   "execution_count": null,
   "metadata": {},
   "outputs": [],
   "source": [
    "## SVM\n",
    "##\n",
    "## - Linear model with interaction (terms)\n",
    "## \n",
    "\n",
    "    i = 5\n",
    "    .ym = ym[i]\n",
    "    y = data[[id_y]]\n",
    "    i0 = which(ymx == ym[i] & y == 0)\n",
    "    i1 = which(ymx <= ym[i] & y == 1)\n",
    "    n0 = length(i0)\n",
    "    n1 = length(i1)\n",
    "    ##id_learn = c(sample(i0, n0), i1)\n",
    "    id_learn = c(i0, i1)\n",
    "    id_xnum = iop::dict2xnum(dict, CALIB)\n",
    "id_y = iop::dict2y(dict, CALIB)\n",
    "##id_xnum = .num2selrf$sel\n",
    "    LEARN = data[id_learn,]\n",
    "LEARN = predict(.num2scale, LEARN, \"sc\")\n",
    "dim(LEARN)\n",
    "    sel = complete.cases(LEARN[,id_xnum])\n",
    "    LEARN = LEARN[sel,]\n",
    "\n",
    "    i0 = which(LEARN[[id_y]] == 0)\n",
    "    i1 = which(LEARN[[id_y]] == 1)\n",
    "    ncol = as.integer(sqrt(length(id_xnum)))\n",
    "    nrow0 = as.integer((length(i0)/2))\n",
    "    nrow1 = as.integer((length(i1)))\n",
    "    nrow1 = length(i1)\n",
    "\n",
    "rp = list()\n",
    "nplane = 10\n",
    "planes = 1:nplane\n",
    "rp[planes] = lapply(planes, function(i){\n",
    "    cols = sample(id_xnum, ncol)\n",
    "    rows0 = sample(i0, nrow0)\n",
    "    rows1 = sample(i1, nrow1)\n",
    "    dat = LEARN[c(rows0, rows1), ]\n",
    "    svm = LiblineaR::LiblineaR(data=dat[,cols],target=dat[[id_y]])\n",
    "    svm\n",
    "})\n",
    "\n",
    "    y = data[[id_y]]\n",
    "    i0 = which(ymx >= ym[i+1] & y == 0)\n",
    "    i1 = which(ymx <= ym[i+1] & y == 1)\n",
    "    n0 = length(i1)*2\n",
    "\n",
    "    #id_eval = c(sample(i0, n0), i1)\n",
    "    id_eval = c(i0,i1)\n",
    "    EVAL = data[id_eval,]\n",
    "    sel = complete.cases(EVAL[,id_xnum])\n",
    "    EVAL = EVAL[sel,]\n",
    "EVAL = predict(.num2scale, EVAL, \"sc\")\n",
    "\n",
    "dim(EVAL)\n",
    "\n",
    "#EVAL = head(EVAL, 1000)\n",
    "\n",
    "dim(EVAL)\n",
    "\n",
    "ps = list()\n",
    "ps[planes] = lapply(planes, function(i){\n",
    "    p = as.numeric(as.character(predict(rp[[i]], newx=EVAL[, id_xnum])$predictions))\n",
    "    p\n",
    "})\n",
    "\n",
    "pp = as.data.frame(ps, col.names = planes)\n",
    "thresh = .5\n",
    "p = ifelse(apply(pp, 1, sum)/nplane >= thresh, 1, 0)\n"
   ]
  },
  {
   "cell_type": "code",
   "execution_count": null,
   "metadata": {},
   "outputs": [],
   "source": [
    "pp = as.data.frame(ps, col.names = planes)\n",
    "thresh = .5\n",
    "p = ifelse(apply(pp, 1, sum)/nplane >= thresh, 1, 0)\n",
    "\n",
    "    a = EVAL[[id_y]]\n",
    "    table(p,a)\n",
    "\n",
    "    conf = as.matrix(table(p,a))\n",
    "    TP = conf[2,2]\n",
    "    FP = conf[2,1]\n",
    "    FN = conf[1,2]\n",
    "    PPV = TP / (TP+FP)\n",
    "    REC = TP / (TP+FN)\n",
    "    F1 = PPV*REC*2/(REC+PPV)\n",
    "PPV\n",
    "REC\n",
    "F1"
   ]
  },
  {
   "cell_type": "code",
   "execution_count": null,
   "metadata": {},
   "outputs": [],
   "source": []
  },
  {
   "cell_type": "code",
   "execution_count": null,
   "metadata": {},
   "outputs": [],
   "source": []
  },
  {
   "cell_type": "code",
   "execution_count": null,
   "metadata": {},
   "outputs": [],
   "source": []
  },
  {
   "cell_type": "code",
   "execution_count": null,
   "metadata": {},
   "outputs": [],
   "source": []
  }
 ],
 "metadata": {
  "kernelspec": {
   "display_name": "R",
   "language": "R",
   "name": "ir"
  },
  "language_info": {
   "codemirror_mode": "r",
   "file_extension": ".r",
   "mimetype": "text/x-r-source",
   "name": "R",
   "pygments_lexer": "r",
   "version": "3.5.1"
  }
 },
 "nbformat": 4,
 "nbformat_minor": 2
}
