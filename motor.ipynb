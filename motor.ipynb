{
 "cells": [
  {
   "cell_type": "code",
   "execution_count": 1,
   "metadata": {},
   "outputs": [],
   "source": [
    "data = readRDS(\"../motor/KFZ201705031700.rds\")\n",
    "dict = iop::data2dict(file=\"../motor/dict.csv\")"
   ]
  },
  {
   "cell_type": "code",
   "execution_count": 11,
   "metadata": {},
   "outputs": [
    {
     "data": {
      "text/plain": [
       "\n",
       "     0      1 \n",
       "105559    181 "
      ]
     },
     "metadata": {},
     "output_type": "display_data"
    }
   ],
   "source": [
    "table(data[[id_y]])"
   ]
  },
  {
   "cell_type": "code",
   "execution_count": 2,
   "metadata": {},
   "outputs": [
    {
     "data": {
      "text/plain": [
       "         \n",
       "ymx           0     1\n",
       "  2016-01 15375    26\n",
       "  2016-02 15715    22\n",
       "  2016-03 17292    25\n",
       "  2016-04 17912    28\n",
       "  2016-05 18727    44\n",
       "  2016-06 19843    34\n",
       "  2016-07   695     2"
      ]
     },
     "metadata": {},
     "output_type": "display_data"
    }
   ],
   "source": [
    "id_y = iop::dict2y(dict, data)\n",
    "time = data[[\"IDVAR_CLMOPENINGDATE\"]]\n",
    "ymd = as.POSIXct(as.Date(as.POSIXct(time)))\n",
    "ymx = (format(ymd, format=\"%Y-%m\"))\n",
    "data[[id_y]] = as.factor(as.character(data[[id_y]]))\n",
    "\n",
    "table(ymx, data[[id_y]])\n",
    "ym = unique(ymx)"
   ]
  },
  {
   "cell_type": "code",
   "execution_count": 3,
   "metadata": {},
   "outputs": [
    {
     "data": {
      "text/html": [
       "<ol class=list-inline>\n",
       "\t<li>18872</li>\n",
       "\t<li>313</li>\n",
       "</ol>\n"
      ],
      "text/latex": [
       "\\begin{enumerate*}\n",
       "\\item 18872\n",
       "\\item 313\n",
       "\\end{enumerate*}\n"
      ],
      "text/markdown": [
       "1. 18872\n",
       "2. 313\n",
       "\n",
       "\n"
      ],
      "text/plain": [
       "[1] 18872   313"
      ]
     },
     "metadata": {},
     "output_type": "display_data"
    },
    {
     "data": {
      "text/html": [
       "18727"
      ],
      "text/latex": [
       "18727"
      ],
      "text/markdown": [
       "18727"
      ],
      "text/plain": [
       "[1] 18727"
      ]
     },
     "metadata": {},
     "output_type": "display_data"
    },
    {
     "data": {
      "text/html": [
       "145"
      ],
      "text/latex": [
       "145"
      ],
      "text/markdown": [
       "145"
      ],
      "text/plain": [
       "[1] 145"
      ]
     },
     "metadata": {},
     "output_type": "display_data"
    },
    {
     "data": {
      "text/html": [
       "<ol class=list-inline>\n",
       "\t<li>18872</li>\n",
       "\t<li>259</li>\n",
       "</ol>\n"
      ],
      "text/latex": [
       "\\begin{enumerate*}\n",
       "\\item 18872\n",
       "\\item 259\n",
       "\\end{enumerate*}\n"
      ],
      "text/markdown": [
       "1. 18872\n",
       "2. 259\n",
       "\n",
       "\n"
      ],
      "text/plain": [
       "[1] 18872   259"
      ]
     },
     "metadata": {},
     "output_type": "display_data"
    }
   ],
   "source": [
    "i = 5\n",
    ".ym = ym[i]\n",
    "y = data[[id_y]]\n",
    "i0 = which(ymx == ym[i] & y == 0)\n",
    "i1 = which(ymx <= ym[i] & y == 1)\n",
    "id_calib = c(i0, i1)\n",
    "CALIB = data[id_calib,]\n",
    "dim(CALIB)\n",
    "\n",
    "length(i0)\n",
    "length(i1)\n",
    "\n",
    "## calibrating\n",
    ".na2rm = iop::na2rm(CALIB)\n",
    "CALIB = predict(.na2rm, CALIB)\n",
    ".const2rm = iop::const2rm(CALIB)\n",
    "CALIB = predict(.const2rm, CALIB)\n",
    "id_xnum = iop::dict2xnum(dict, CALIB)\n",
    ".nzv2rm = iop::nzv2rm(CALIB[,id_xnum])\n",
    "CALIB = predict(.nzv2rm, CALIB)\n",
    "id_xnum = iop::dict2xnum(dict, CALIB)\n",
    ".cor2rm = iop::cor2rm(CALIB[,id_xnum])\n",
    "CALIB = predict(.cor2rm, CALIB)\n",
    "id_xnum = iop::dict2xnum(dict, CALIB)\n",
    ".num2norm = iop::num2norm(CALIB[,id_xnum])\n",
    "dim(CALIB)"
   ]
  },
  {
   "cell_type": "code",
   "execution_count": 28,
   "metadata": {},
   "outputs": [],
   "source": [
    "\n",
    "    i = 5\n",
    "    .ym = ym[i]\n",
    "    y = data[[id_y]]\n",
    "    i0 = which(ymx == ym[i] & y == 0)\n",
    "    i1 = which(ymx <= ym[i] & y == 1)\n",
    "    id_learn = c(i0, i1)\n",
    "    LEARN = data[id_learn,]\n",
    "    thresh = 5\n",
    "    f = iop::data2formula(dict, CALIB, varx=\"xnum\")\n",
    "    .num2selrf = num2selrf(LEARN, f)"
   ]
  },
  {
   "cell_type": "code",
   "execution_count": 5,
   "metadata": {},
   "outputs": [],
   "source": [
    "num2selrf <- function(x, f, thresh=5, ntree=10){\n",
    "    rf = randomForest::randomForest(f, data=x, ntree=10)\n",
    "    labs = rownames(rf$importance)\n",
    "    sel = labs[rf$importance >= thresh]\n",
    "    model = list(sel=sel)\n",
    "    class(model) = c(\"num2selrf\")\n",
    "    return(model)\n",
    "}\n",
    "\n",
    "predict.num2selrf <- function(model){\n",
    "    model$sel\n",
    "}"
   ]
  },
  {
   "cell_type": "code",
   "execution_count": 7,
   "metadata": {},
   "outputs": [
    {
     "data": {
      "text/html": [
       "<ol class=list-inline>\n",
       "\t<li>'IDVAR_POLTOTALPREMIUM'</li>\n",
       "\t<li>'IDVAR_POLINSTALLMENTPREMIUM'</li>\n",
       "\t<li>'IDVAR_INVSTATEDVALUE'</li>\n",
       "\t<li>'IDVAR_INVENGESTIMATEDREPAIRCOSTS'</li>\n",
       "\t<li>'IDVAR_INPNOLOB'</li>\n",
       "\t<li>'IDVAR_POLEFFECTIVETODATEMON'</li>\n",
       "\t<li>'IDVAR_POLEFFECTIVEFROMDATEMON'</li>\n",
       "\t<li>'IDVAR_CLMCLOSINGAFTERRENEWALDAYS'</li>\n",
       "\t<li>'IDVAR_INPDOBTOEVTDATE'</li>\n",
       "\t<li>'IDVAR_INVENGINSPECTIONDAYS'</li>\n",
       "\t<li>'IDVAR_EVTTIMEOFDAY'</li>\n",
       "\t<li>'IDVAR_RATIOCLAIMVEHICLEVALUE'</li>\n",
       "\t<li>'IDVAR_CLMREPORTINGTIMEAFTERINCIDENT'</li>\n",
       "\t<li>'IDVAR_CLMOPENINGAFTERSTARTDAYS'</li>\n",
       "\t<li>'IDVAR_EVTDAYSFROMPAYMENTDUE'</li>\n",
       "\t<li>'IDVAR_INVENGINECAPACITYT'</li>\n",
       "\t<li>'IDVAR_CLMEXPENSET'</li>\n",
       "\t<li>'IDVAR_CLMEVENTAFTERSTARTDAYS'</li>\n",
       "\t<li>'IDVAR_INVFIRSTREGISTRATIONSINCEPOLICYINCEPTIONDAYS'</li>\n",
       "\t<li>'IDVAR_INVSTATEDVALUEMERGE'</li>\n",
       "</ol>\n"
      ],
      "text/latex": [
       "\\begin{enumerate*}\n",
       "\\item 'IDVAR\\_POLTOTALPREMIUM'\n",
       "\\item 'IDVAR\\_POLINSTALLMENTPREMIUM'\n",
       "\\item 'IDVAR\\_INVSTATEDVALUE'\n",
       "\\item 'IDVAR\\_INVENGESTIMATEDREPAIRCOSTS'\n",
       "\\item 'IDVAR\\_INPNOLOB'\n",
       "\\item 'IDVAR\\_POLEFFECTIVETODATEMON'\n",
       "\\item 'IDVAR\\_POLEFFECTIVEFROMDATEMON'\n",
       "\\item 'IDVAR\\_CLMCLOSINGAFTERRENEWALDAYS'\n",
       "\\item 'IDVAR\\_INPDOBTOEVTDATE'\n",
       "\\item 'IDVAR\\_INVENGINSPECTIONDAYS'\n",
       "\\item 'IDVAR\\_EVTTIMEOFDAY'\n",
       "\\item 'IDVAR\\_RATIOCLAIMVEHICLEVALUE'\n",
       "\\item 'IDVAR\\_CLMREPORTINGTIMEAFTERINCIDENT'\n",
       "\\item 'IDVAR\\_CLMOPENINGAFTERSTARTDAYS'\n",
       "\\item 'IDVAR\\_EVTDAYSFROMPAYMENTDUE'\n",
       "\\item 'IDVAR\\_INVENGINECAPACITYT'\n",
       "\\item 'IDVAR\\_CLMEXPENSET'\n",
       "\\item 'IDVAR\\_CLMEVENTAFTERSTARTDAYS'\n",
       "\\item 'IDVAR\\_INVFIRSTREGISTRATIONSINCEPOLICYINCEPTIONDAYS'\n",
       "\\item 'IDVAR\\_INVSTATEDVALUEMERGE'\n",
       "\\end{enumerate*}\n"
      ],
      "text/markdown": [
       "1. 'IDVAR_POLTOTALPREMIUM'\n",
       "2. 'IDVAR_POLINSTALLMENTPREMIUM'\n",
       "3. 'IDVAR_INVSTATEDVALUE'\n",
       "4. 'IDVAR_INVENGESTIMATEDREPAIRCOSTS'\n",
       "5. 'IDVAR_INPNOLOB'\n",
       "6. 'IDVAR_POLEFFECTIVETODATEMON'\n",
       "7. 'IDVAR_POLEFFECTIVEFROMDATEMON'\n",
       "8. 'IDVAR_CLMCLOSINGAFTERRENEWALDAYS'\n",
       "9. 'IDVAR_INPDOBTOEVTDATE'\n",
       "10. 'IDVAR_INVENGINSPECTIONDAYS'\n",
       "11. 'IDVAR_EVTTIMEOFDAY'\n",
       "12. 'IDVAR_RATIOCLAIMVEHICLEVALUE'\n",
       "13. 'IDVAR_CLMREPORTINGTIMEAFTERINCIDENT'\n",
       "14. 'IDVAR_CLMOPENINGAFTERSTARTDAYS'\n",
       "15. 'IDVAR_EVTDAYSFROMPAYMENTDUE'\n",
       "16. 'IDVAR_INVENGINECAPACITYT'\n",
       "17. 'IDVAR_CLMEXPENSET'\n",
       "18. 'IDVAR_CLMEVENTAFTERSTARTDAYS'\n",
       "19. 'IDVAR_INVFIRSTREGISTRATIONSINCEPOLICYINCEPTIONDAYS'\n",
       "20. 'IDVAR_INVSTATEDVALUEMERGE'\n",
       "\n",
       "\n"
      ],
      "text/plain": [
       " [1] \"IDVAR_POLTOTALPREMIUM\"                             \n",
       " [2] \"IDVAR_POLINSTALLMENTPREMIUM\"                       \n",
       " [3] \"IDVAR_INVSTATEDVALUE\"                              \n",
       " [4] \"IDVAR_INVENGESTIMATEDREPAIRCOSTS\"                  \n",
       " [5] \"IDVAR_INPNOLOB\"                                    \n",
       " [6] \"IDVAR_POLEFFECTIVETODATEMON\"                       \n",
       " [7] \"IDVAR_POLEFFECTIVEFROMDATEMON\"                     \n",
       " [8] \"IDVAR_CLMCLOSINGAFTERRENEWALDAYS\"                  \n",
       " [9] \"IDVAR_INPDOBTOEVTDATE\"                             \n",
       "[10] \"IDVAR_INVENGINSPECTIONDAYS\"                        \n",
       "[11] \"IDVAR_EVTTIMEOFDAY\"                                \n",
       "[12] \"IDVAR_RATIOCLAIMVEHICLEVALUE\"                      \n",
       "[13] \"IDVAR_CLMREPORTINGTIMEAFTERINCIDENT\"               \n",
       "[14] \"IDVAR_CLMOPENINGAFTERSTARTDAYS\"                    \n",
       "[15] \"IDVAR_EVTDAYSFROMPAYMENTDUE\"                       \n",
       "[16] \"IDVAR_INVENGINECAPACITYT\"                          \n",
       "[17] \"IDVAR_CLMEXPENSET\"                                 \n",
       "[18] \"IDVAR_CLMEVENTAFTERSTARTDAYS\"                      \n",
       "[19] \"IDVAR_INVFIRSTREGISTRATIONSINCEPOLICYINCEPTIONDAYS\"\n",
       "[20] \"IDVAR_INVSTATEDVALUEMERGE\"                         "
      ]
     },
     "metadata": {},
     "output_type": "display_data"
    }
   ],
   "source": [
    ".num2selrf$sel"
   ]
  },
  {
   "cell_type": "code",
   "execution_count": null,
   "metadata": {},
   "outputs": [],
   "source": []
  },
  {
   "cell_type": "code",
   "execution_count": null,
   "metadata": {},
   "outputs": [],
   "source": []
  },
  {
   "cell_type": "code",
   "execution_count": null,
   "metadata": {},
   "outputs": [],
   "source": []
  },
  {
   "cell_type": "code",
   "execution_count": null,
   "metadata": {},
   "outputs": [],
   "source": [
    "##\n",
    "## NBTree\n",
    "##\n",
    "## - Decision tree-based paritioning of the data (unbalanced)\n",
    "## - No interaction data (needed)\n",
    "## - Data subsets at each leaf node is a Naive Bayes Classifer\n",
    "## - Prediction:\n",
    "##     if DT == 0 -> 0\n",
    "##     if NB == 1 -> 1\n",
    "##     else       -> 0\n",
    "##\n",
    "\n",
    "    i = 5\n",
    "    .ym = ym[i]\n",
    "    y = data[[id_y]]\n",
    "    i0 = which(ymx == ym[i] & y == 0)\n",
    "    i1 = which(ymx <= ym[i] & y == 1)\n",
    "    id_learn = c(i0, i1)\n",
    "    LEARN = data[id_learn,]\n",
    "    id_y = iop::dict2y(dict, CALIB)\n",
    "    f = paste0(id_y, \" ~ \", paste0(.num2selrf$sel, collapse=\" + \"))\n",
    "    loss = matrix(c(0, 1, 5, 0), ncol=2, byrow=T)\n",
    "    library(partykit)\n",
    "    dt = rpart::rpart(f, data=LEARN, parms=list(loss=loss, split=\"information\"))\n",
    "\n",
    "    nb = fastNaiveBayes::fastNaiveBayes(x=LEARN[,id_xnum], y=LEARN[[id_y]])## comparison\n",
    "\n",
    "    fit = fitted(as.party(dt))\n",
    "    id_node = fit[,1]\n",
    "    nodes = unique(id_node)\n",
    "    id_xnum = iop::dict2xnum(dict, CALIB)\n",
    "    NBTree = list()\n",
    "    tt = table(LEARN[[id_y]])\n",
    "    priors = as.numeric(tt/sum(tt))\n",
    "    tmp = lapply(nodes, function(node){\n",
    "        sel = id_node == node\n",
    "        x = data[sel,id_xnum]\n",
    "        if(nrow(x) < 10){\n",
    "            return(NULL)\n",
    "        }else{\n",
    "            x[is.na(x)] = 0\n",
    "            y = data[[id_y]][sel]\n",
    "            NBTree[[node]] <<- fastNaiveBayes::fastNaiveBayes(x=x, y=y, priors=priors)\n",
    "        }\n",
    "    })\n"
   ]
  },
  {
   "cell_type": "code",
   "execution_count": null,
   "metadata": {},
   "outputs": [],
   "source": [
    "y = data[[id_y]]\n",
    "i0 = which(ymx == ym[i+1] & y == 0)\n",
    "i1 = which(ymx <= ym[i+1] & y == 1)\n",
    "n0 = length(i1)\n",
    "id_eval = c(sample(i0, n0), i1)\n",
    "#id_eval = c(i0,i1)\n",
    "EVAL = data[id_eval,]\n",
    "dim(EVAL)\n",
    "\n",
    "library(fastNaiveBayes)\n",
    "p_node = predict(as.party(dt), newdata=EVAL[,id_xnum], type=\"node\")\n",
    "p_nb = rep(NA,length(p_node))\n",
    "p_nb = list()\n",
    "p_nb[nodes] = lapply(nodes, function(node){\n",
    "    nb\n",
    "    p = predict(NBTree[[node]], newdata=EVAL[,id_xnum], type=\"class\")\n",
    "    p\n",
    "})\n",
    "\n",
    "p_dt = as.character(predict(dt, newdata=EVAL[,id_xnum], type=\"class\"))\n",
    "\n",
    "p_nb. = as.character(predict(nb, newdata=EVAL[,id_xnum], type=\"class\"))\n",
    "\n",
    "p_nbtree = as.character(sapply(1:length(p_node), function(i){\n",
    "    p_nb[[p_node[i]]][i]\n",
    "}))\n",
    "a = as.character(EVAL[[id_y]])\n",
    "table(p_dt, a)\n",
    "\n",
    "table(p_nb., a)\n",
    "\n",
    "table(p_dt, p_nbtree, a)\n",
    "p = ifelse(p_dt == 0, p_dt, ifelse(p_nbtree == 1, p_nbtree, 0))\n",
    "table(p,a)\n",
    "\n",
    "    conf = as.matrix(table(p,a))\n",
    "    TP = conf[2,2]\n",
    "    FP = conf[2,1]\n",
    "    FN = conf[1,2]\n",
    "    PPV = TP / (TP+FP)\n",
    "    REC = TP / (TP+FN)\n",
    "    F1 = PPV*REC*2/(REC+PPV)\n",
    "PPV\n",
    "REC\n",
    "F1\n"
   ]
  },
  {
   "cell_type": "code",
   "execution_count": null,
   "metadata": {},
   "outputs": [],
   "source": []
  },
  {
   "cell_type": "code",
   "execution_count": 8,
   "metadata": {},
   "outputs": [],
   "source": [
    "num2interaction <- function(x, ...){\n",
    "    labs = colnames(x)\n",
    "    comb = combn(labs,m=2)\n",
    "    combs = 1:ncol(comb)\n",
    "    newx = list()\n",
    "    newx[combs] = lapply(combs, function(i){\n",
    "        a = comb[1,i]\n",
    "        b = comb[2,i]\n",
    "        x[[a]] * x[[b]]\n",
    "    })\n",
    "\n",
    "    name = sapply(combs, function(i){\n",
    "        a = comb[1,i]\n",
    "        b = comb[2,i]\n",
    "        paste0(a,\"_x_\",b)\n",
    "    })\n",
    "    return(as.data.frame(newx, col.names=name))\n",
    "}"
   ]
  },
  {
   "cell_type": "code",
   "execution_count": 53,
   "metadata": {},
   "outputs": [
    {
     "data": {
      "text/html": [
       "<ol class=list-inline>\n",
       "\t<li>18872</li>\n",
       "\t<li>313</li>\n",
       "</ol>\n"
      ],
      "text/latex": [
       "\\begin{enumerate*}\n",
       "\\item 18872\n",
       "\\item 313\n",
       "\\end{enumerate*}\n"
      ],
      "text/markdown": [
       "1. 18872\n",
       "2. 313\n",
       "\n",
       "\n"
      ],
      "text/plain": [
       "[1] 18872   313"
      ]
     },
     "metadata": {},
     "output_type": "display_data"
    },
    {
     "data": {
      "text/html": [
       "179"
      ],
      "text/latex": [
       "179"
      ],
      "text/markdown": [
       "179"
      ],
      "text/plain": [
       "[1] 179"
      ]
     },
     "metadata": {},
     "output_type": "display_data"
    },
    {
     "data": {
      "text/html": [
       "<ol class=list-inline>\n",
       "\t<li>20717</li>\n",
       "\t<li>313</li>\n",
       "</ol>\n"
      ],
      "text/latex": [
       "\\begin{enumerate*}\n",
       "\\item 20717\n",
       "\\item 313\n",
       "\\end{enumerate*}\n"
      ],
      "text/markdown": [
       "1. 20717\n",
       "2. 313\n",
       "\n",
       "\n"
      ],
      "text/plain": [
       "[1] 20717   313"
      ]
     },
     "metadata": {},
     "output_type": "display_data"
    },
    {
     "data": {
      "text/plain": [
       "   a\n",
       "p       0     1\n",
       "  0 20538   163\n",
       "  1     0    16"
      ]
     },
     "metadata": {},
     "output_type": "display_data"
    },
    {
     "data": {
      "text/html": [
       "1"
      ],
      "text/latex": [
       "1"
      ],
      "text/markdown": [
       "1"
      ],
      "text/plain": [
       "[1] 1"
      ]
     },
     "metadata": {},
     "output_type": "display_data"
    },
    {
     "data": {
      "text/html": [
       "0.0893854748603352"
      ],
      "text/latex": [
       "0.0893854748603352"
      ],
      "text/markdown": [
       "0.0893854748603352"
      ],
      "text/plain": [
       "[1] 0.08938547"
      ]
     },
     "metadata": {},
     "output_type": "display_data"
    },
    {
     "data": {
      "text/html": [
       "0.164102564102564"
      ],
      "text/latex": [
       "0.164102564102564"
      ],
      "text/markdown": [
       "0.164102564102564"
      ],
      "text/plain": [
       "[1] 0.1641026"
      ]
     },
     "metadata": {},
     "output_type": "display_data"
    }
   ],
   "source": [
    "## SVM\n",
    "##\n",
    "## - Linear model with interaction (terms)\n",
    "## \n",
    "\n",
    "    i = 5\n",
    "    .ym = ym[i]\n",
    "    y = data[[id_y]]\n",
    "    i0 = which(ymx == ym[i] & y == 0)\n",
    "    i1 = which(ymx <= ym[i] & y == 1)\n",
    "    n0 = length(i1)\n",
    "    ##id_learn = c(sample(i0, n0), i1)\n",
    "    id_learn = c(i0, i1)\n",
    "    ##id_xnum = iop::dict2xnum(dict, CALIB, varx=\"xnum\")\n",
    "id_xnum = .num2selrf$sel\n",
    "    LEARN = data[id_learn,]\n",
    "dim(LEARN)\n",
    "    sel = complete.cases(LEARN[,id_xnum])\n",
    "    LEARN = LEARN[sel,]\n",
    "    num2int = num2interaction(LEARN[,id_xnum])\n",
    "dat = LEARN[,id_xnum]\n",
    "    svm = LiblineaR::LiblineaR(data=dat,target=LEARN[[id_y]])\n",
    "\n",
    "    y = data[[id_y]]\n",
    "    i0 = which(ymx >= ym[i+1] & y == 0)\n",
    "    i1 = which(ymx <= ym[i+1] & y == 1)\n",
    "    n0 = length(i1)\n",
    "n0\n",
    "    #id_eval = c(sample(i0, n0), i1)\n",
    "    id_eval = c(i0,i1)\n",
    "    EVAL = data[id_eval,]\n",
    "    sel = complete.cases(EVAL[,id_xnum])\n",
    "    EVAL = EVAL[sel,]\n",
    "    xx = num2interaction(EVAL[,id_xnum])\n",
    "dat = EVAL[,id_xnum]\n",
    "    dim(EVAL)\n",
    "    #p = predict(svm, newx=EVAL[,id_xnum])\n",
    "    p = predict(svm, newx=dat)$predictions\n",
    "    a = EVAL[[id_y]]\n",
    "    table(p,a)\n",
    "\n",
    "    conf = as.matrix(table(p,a))\n",
    "    TP = conf[2,2]\n",
    "    FP = conf[2,1]\n",
    "    FN = conf[1,2]\n",
    "    PPV = TP / (TP+FP)\n",
    "    REC = TP / (TP+FN)\n",
    "    F1 = PPV*REC*2/(REC+PPV)\n",
    "PPV\n",
    "REC\n",
    "F1\n"
   ]
  },
  {
   "cell_type": "code",
   "execution_count": null,
   "metadata": {},
   "outputs": [],
   "source": [
    "## with all xnum\n",
    "\n",
    "18872 313 \n",
    "\n",
    "    20022 313 \n",
    "\n",
    "   a\n",
    "p       0     1\n",
    "  0 19841   162\n",
    "  1     2    17\n",
    "\n",
    "0.894736842105263\n",
    "0.0949720670391061\n",
    "0.171717171717172\n",
    "\n",
    "## only with selrf\n",
    "     18872 313 \n",
    "\n",
    "179\n",
    "\n",
    "    20717 313 \n",
    "\n",
    "   a\n",
    "p       0     1\n",
    "  0 20538   163\n",
    "  1     0    16\n",
    "\n",
    "1\n",
    "0.0893854748603352\n",
    "0.164102564102564"
   ]
  },
  {
   "cell_type": "code",
   "execution_count": 31,
   "metadata": {},
   "outputs": [
    {
     "data": {
      "text/html": [
       "<ol class=list-inline>\n",
       "\t<li>'IDVAR_POLTOTALPREMIUM'</li>\n",
       "\t<li>'IDVAR_INVWEIGHT'</li>\n",
       "\t<li>'IDVAR_INVSTATEDVALUE'</li>\n",
       "\t<li>'IDVAR_POLEFFECTIVETODATEMON'</li>\n",
       "\t<li>'IDVAR_POLEFFECTIVEFROMDATEMON'</li>\n",
       "\t<li>'IDVAR_CLMCLOSINGBEFORERENEWALDAYS'</li>\n",
       "\t<li>'IDVAR_CLMCLOSINGAFTERRENEWALDAYS'</li>\n",
       "\t<li>'IDVAR_CLMREPORTINGTIME'</li>\n",
       "\t<li>'IDVAR_INPDOBTOEVTDATE'</li>\n",
       "\t<li>'IDVAR_RATIOCLAIMVEHICLEVALUE'</li>\n",
       "\t<li>'IDVAR_CLMREPORTINGTIMEAFTERINCIDENT'</li>\n",
       "\t<li>'IDVAR_CLMOPENINGAFTERSTARTDAYS'</li>\n",
       "\t<li>'IDVAR_EVTDAYSFROMPAYMENTDUE'</li>\n",
       "\t<li>'IDVAR_INVENGINECAPACITYT'</li>\n",
       "\t<li>'IDVAR_CLMEXPENSET'</li>\n",
       "\t<li>'IDVAR_CLMEVENTAFTERSTARTDAYS'</li>\n",
       "\t<li>'IDVAR_INVSTATEDVALUEMERGE'</li>\n",
       "</ol>\n"
      ],
      "text/latex": [
       "\\begin{enumerate*}\n",
       "\\item 'IDVAR\\_POLTOTALPREMIUM'\n",
       "\\item 'IDVAR\\_INVWEIGHT'\n",
       "\\item 'IDVAR\\_INVSTATEDVALUE'\n",
       "\\item 'IDVAR\\_POLEFFECTIVETODATEMON'\n",
       "\\item 'IDVAR\\_POLEFFECTIVEFROMDATEMON'\n",
       "\\item 'IDVAR\\_CLMCLOSINGBEFORERENEWALDAYS'\n",
       "\\item 'IDVAR\\_CLMCLOSINGAFTERRENEWALDAYS'\n",
       "\\item 'IDVAR\\_CLMREPORTINGTIME'\n",
       "\\item 'IDVAR\\_INPDOBTOEVTDATE'\n",
       "\\item 'IDVAR\\_RATIOCLAIMVEHICLEVALUE'\n",
       "\\item 'IDVAR\\_CLMREPORTINGTIMEAFTERINCIDENT'\n",
       "\\item 'IDVAR\\_CLMOPENINGAFTERSTARTDAYS'\n",
       "\\item 'IDVAR\\_EVTDAYSFROMPAYMENTDUE'\n",
       "\\item 'IDVAR\\_INVENGINECAPACITYT'\n",
       "\\item 'IDVAR\\_CLMEXPENSET'\n",
       "\\item 'IDVAR\\_CLMEVENTAFTERSTARTDAYS'\n",
       "\\item 'IDVAR\\_INVSTATEDVALUEMERGE'\n",
       "\\end{enumerate*}\n"
      ],
      "text/markdown": [
       "1. 'IDVAR_POLTOTALPREMIUM'\n",
       "2. 'IDVAR_INVWEIGHT'\n",
       "3. 'IDVAR_INVSTATEDVALUE'\n",
       "4. 'IDVAR_POLEFFECTIVETODATEMON'\n",
       "5. 'IDVAR_POLEFFECTIVEFROMDATEMON'\n",
       "6. 'IDVAR_CLMCLOSINGBEFORERENEWALDAYS'\n",
       "7. 'IDVAR_CLMCLOSINGAFTERRENEWALDAYS'\n",
       "8. 'IDVAR_CLMREPORTINGTIME'\n",
       "9. 'IDVAR_INPDOBTOEVTDATE'\n",
       "10. 'IDVAR_RATIOCLAIMVEHICLEVALUE'\n",
       "11. 'IDVAR_CLMREPORTINGTIMEAFTERINCIDENT'\n",
       "12. 'IDVAR_CLMOPENINGAFTERSTARTDAYS'\n",
       "13. 'IDVAR_EVTDAYSFROMPAYMENTDUE'\n",
       "14. 'IDVAR_INVENGINECAPACITYT'\n",
       "15. 'IDVAR_CLMEXPENSET'\n",
       "16. 'IDVAR_CLMEVENTAFTERSTARTDAYS'\n",
       "17. 'IDVAR_INVSTATEDVALUEMERGE'\n",
       "\n",
       "\n"
      ],
      "text/plain": [
       " [1] \"IDVAR_POLTOTALPREMIUM\"               \"IDVAR_INVWEIGHT\"                    \n",
       " [3] \"IDVAR_INVSTATEDVALUE\"                \"IDVAR_POLEFFECTIVETODATEMON\"        \n",
       " [5] \"IDVAR_POLEFFECTIVEFROMDATEMON\"       \"IDVAR_CLMCLOSINGBEFORERENEWALDAYS\"  \n",
       " [7] \"IDVAR_CLMCLOSINGAFTERRENEWALDAYS\"    \"IDVAR_CLMREPORTINGTIME\"             \n",
       " [9] \"IDVAR_INPDOBTOEVTDATE\"               \"IDVAR_RATIOCLAIMVEHICLEVALUE\"       \n",
       "[11] \"IDVAR_CLMREPORTINGTIMEAFTERINCIDENT\" \"IDVAR_CLMOPENINGAFTERSTARTDAYS\"     \n",
       "[13] \"IDVAR_EVTDAYSFROMPAYMENTDUE\"         \"IDVAR_INVENGINECAPACITYT\"           \n",
       "[15] \"IDVAR_CLMEXPENSET\"                   \"IDVAR_CLMEVENTAFTERSTARTDAYS\"       \n",
       "[17] \"IDVAR_INVSTATEDVALUEMERGE\"          "
      ]
     },
     "metadata": {},
     "output_type": "display_data"
    }
   ],
   "source": [
    ".num2selrf$sel"
   ]
  },
  {
   "cell_type": "code",
   "execution_count": null,
   "metadata": {},
   "outputs": [],
   "source": []
  },
  {
   "cell_type": "code",
   "execution_count": null,
   "metadata": {},
   "outputs": [],
   "source": []
  },
  {
   "cell_type": "code",
   "execution_count": null,
   "metadata": {},
   "outputs": [],
   "source": []
  }
 ],
 "metadata": {
  "kernelspec": {
   "display_name": "R",
   "language": "R",
   "name": "ir"
  },
  "language_info": {
   "codemirror_mode": "r",
   "file_extension": ".r",
   "mimetype": "text/x-r-source",
   "name": "R",
   "pygments_lexer": "r",
   "version": "3.5.1"
  }
 },
 "nbformat": 4,
 "nbformat_minor": 2
}
